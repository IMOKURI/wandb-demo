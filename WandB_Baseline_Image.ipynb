{
 "cells": [
  {
   "cell_type": "markdown",
   "metadata": {
    "id": "g3YDQH4n9zdG"
   },
   "source": [
    "# 📔 About this notebook\n",
    "\n",
    "Image classification baseline."
   ]
  },
  {
   "cell_type": "markdown",
   "metadata": {
    "id": "lK0pnACt-CQd"
   },
   "source": [
    "## 📝 Memo"
   ]
  },
  {
   "cell_type": "markdown",
   "metadata": {
    "id": "eezrDVYa_yav"
   },
   "source": [
    "# 📚 Library"
   ]
  },
  {
   "cell_type": "code",
   "execution_count": 1,
   "metadata": {
    "id": "32GYVF3l_wUO"
   },
   "outputs": [],
   "source": [
    "# General libraries\n",
    "import collections\n",
    "import glob\n",
    "import json\n",
    "import math\n",
    "import os\n",
    "import random\n",
    "import re\n",
    "import statistics\n",
    "import time\n",
    "import warnings\n",
    "from contextlib import contextmanager\n",
    "\n",
    "import matplotlib.pyplot as plt\n",
    "import numpy as np\n",
    "import pandas as pd\n",
    "import scipy as sp\n",
    "import seaborn as sns\n",
    "import torch\n",
    "import torch.cuda.amp as amp\n",
    "import torch.nn as nn\n",
    "import torch.nn.functional as F\n",
    "import wandb\n",
    "# from cosine_annealing_warmup import CosineAnnealingWarmupRestarts\n",
    "# from iterstrat.ml_stratifiers import MultilabelStratifiedKFold\n",
    "from sklearn.metrics import accuracy_score, mean_squared_error\n",
    "from sklearn.model_selection import KFold, StratifiedKFold, StratifiedGroupKFold\n",
    "from torch.optim import SGD, Adam\n",
    "from torch.optim.lr_scheduler import CosineAnnealingLR, CosineAnnealingWarmRestarts\n",
    "from torch.utils.data import DataLoader, Dataset\n",
    "from tqdm.notebook import tqdm"
   ]
  },
  {
   "cell_type": "code",
   "execution_count": 2,
   "metadata": {
    "id": "DhlpmaPbNqOs"
   },
   "outputs": [],
   "source": [
    "# Competition specific libraries\n",
    "import albumentations as A\n",
    "import cv2\n",
    "import timm\n",
    "from albumentations.pytorch import ToTensorV2"
   ]
  },
  {
   "cell_type": "code",
   "execution_count": 3,
   "metadata": {
    "id": "qPMtyPp8AWvZ"
   },
   "outputs": [],
   "source": [
    "warnings.filterwarnings(\"ignore\")"
   ]
  },
  {
   "cell_type": "code",
   "execution_count": 4,
   "metadata": {
    "colab": {
     "base_uri": "https://localhost:8080/"
    },
    "id": "ZHMIcuPvAdZI",
    "outputId": "a71431c4-ffb2-49da-9dd0-521e058cf409"
   },
   "outputs": [
    {
     "name": "stdout",
     "output_type": "stream",
     "text": [
      "\u001b[34m\u001b[1mwandb\u001b[0m: Currently logged in as: \u001b[33mimokuri\u001b[0m (use `wandb login --relogin` to force relogin)\n"
     ]
    }
   ],
   "source": [
    "# netrc = \"/content/drive/MyDrive/.netrc\" if 'google.colab' in sys.modules else \"../input/wandbtoken/.netrc\"\n",
    "# !cp -f {netrc} ~/\n",
    "!wandb login\n",
    "wandb_tags = []"
   ]
  },
  {
   "cell_type": "code",
   "execution_count": 5,
   "metadata": {
    "id": "KPb3f6kLAYrP"
   },
   "outputs": [],
   "source": [
    "device = torch.device(\"cuda\" if torch.cuda.is_available() else \"cpu\")"
   ]
  },
  {
   "cell_type": "markdown",
   "metadata": {
    "id": "m9uOtCk2BKGF"
   },
   "source": [
    "# Load Data"
   ]
  },
  {
   "cell_type": "code",
   "execution_count": 6,
   "metadata": {
    "id": "m4LaDlPJBLil"
   },
   "outputs": [],
   "source": [
    "DATA_DIR = \"../input/cassava-leaf-disease-classification/\"\n",
    "OUTPUT_DIR = \"./\"\n",
    "MODEL_DIR = \"./models/\"\n",
    "\n",
    "!rm -rf {MODEL_DIR}\n",
    "\n",
    "os.makedirs(OUTPUT_DIR, exist_ok=True)\n",
    "os.makedirs(MODEL_DIR, exist_ok=True)"
   ]
  },
  {
   "cell_type": "code",
   "execution_count": 7,
   "metadata": {
    "id": "xKKkrScBBf44"
   },
   "outputs": [],
   "source": [
    "train = pd.read_csv(DATA_DIR + \"train.csv\")\n",
    "# test = pd.read_csv(DATA_DIR + \"test.csv\")\n",
    "sub = pd.read_csv(DATA_DIR + \"sample_submission.csv\")\n",
    "\n",
    "TRAIN_IMAGE_PATH = DATA_DIR + \"train_images/\"\n",
    "TEST_IMAGE_PATH = DATA_DIR + \"test_images/\""
   ]
  },
  {
   "cell_type": "markdown",
   "metadata": {
    "id": "DQk8_n-5Bwun"
   },
   "source": [
    "# 🤔 Config"
   ]
  },
  {
   "cell_type": "code",
   "execution_count": 8,
   "metadata": {
    "colab": {
     "base_uri": "https://localhost:8080/"
    },
    "id": "HfK7G4EQBxpt",
    "outputId": "18adfc6c-9ff0-4652-bbf4-f1e2e931bdb2"
   },
   "outputs": [
    {
     "name": "stdout",
     "output_type": "stream",
     "text": [
      "440\n"
     ]
    }
   ],
   "source": [
    "# seed = random.randrange(10000)\n",
    "seed = 440\n",
    "print(seed)"
   ]
  },
  {
   "cell_type": "code",
   "execution_count": 9,
   "metadata": {
    "id": "STqXGbUhBz5f"
   },
   "outputs": [],
   "source": [
    "class Config:\n",
    "    wandb_entity = \"imokuri\"\n",
    "    wandb_project = \"baseline\"\n",
    "    print_freq = 100\n",
    "\n",
    "    train = True\n",
    "    validate = False\n",
    "    inference = False\n",
    "\n",
    "    debug = False\n",
    "    num_debug_data = 1000\n",
    "\n",
    "    amp = True\n",
    "    multi_gpu = True"
   ]
  },
  {
   "cell_type": "code",
   "execution_count": 10,
   "metadata": {
    "id": "Vjl7MQHiFyFS"
   },
   "outputs": [],
   "source": [
    "config_defaults = {\n",
    "    \"seed\": seed,\n",
    "    \"n_class\": 5,\n",
    "    \"n_fold\": 5,\n",
    "    \"epochs\": 10,\n",
    "    \"batch_size\": 96,\n",
    "    \"gradient_accumulation_steps\": 1,\n",
    "    \"max_grad_norm\": 1000,\n",
    "    \"criterion\": \"CrossEntropyLoss\",\n",
    "    \"optimizer\": \"Adam\",\n",
    "    \"scheduler\": \"CosineAnnealingWarmRestarts\",\n",
    "    \"lr\": 1e-4,\n",
    "    \"min_lr\": 5e-6,\n",
    "    \"weight_decay\": 1e-6,\n",
    "    \"model_name\": \"tf_efficientnetv2_m_in21k\", # \"vit_base_patch16_384\", \"tf_efficientnetv2_m_in21k\", \"resnext50_32x4d\"\n",
    "    \"size\": 512,\n",
    "}"
   ]
  },
  {
   "cell_type": "code",
   "execution_count": 11,
   "metadata": {
    "id": "dgConxiYIqTM"
   },
   "outputs": [],
   "source": [
    "if Config.debug:\n",
    "    config_defaults[\"n_fold\"] = 3\n",
    "    config_defaults[\"epochs\"] = 1\n",
    "    Config.print_freq = 10"
   ]
  },
  {
   "cell_type": "code",
   "execution_count": 12,
   "metadata": {
    "id": "BteR9_gVItes"
   },
   "outputs": [],
   "source": [
    "if Config.train:\n",
    "    wandb_job_type = \"training\"\n",
    "\n",
    "elif Config.inference:\n",
    "    wandb_job_type = \"inference\"\n",
    "\n",
    "elif Config.validate:\n",
    "    wandb_job_type = \"validation\"\n",
    "\n",
    "else:\n",
    "    wandb_job_type = \"\""
   ]
  },
  {
   "cell_type": "code",
   "execution_count": 13,
   "metadata": {
    "id": "wBSFI0-_XL_-"
   },
   "outputs": [],
   "source": [
    "if Config.debug:\n",
    "    wandb_tags.append(\"debug\")\n",
    "    \n",
    "if Config.amp:\n",
    "    wandb_tags.append(\"amp\")"
   ]
  },
  {
   "cell_type": "code",
   "execution_count": 14,
   "metadata": {
    "colab": {
     "base_uri": "https://localhost:8080/",
     "height": 136
    },
    "id": "JaQsAlSfJbnt",
    "outputId": "c2d21fae-09f0-4e17-e2c9-61f80760b2eb"
   },
   "outputs": [
    {
     "name": "stderr",
     "output_type": "stream",
     "text": [
      "Failed to detect the name of this notebook, you can set it manually with the WANDB_NOTEBOOK_NAME environment variable to enable code saving.\n",
      "\u001b[34m\u001b[1mwandb\u001b[0m: Currently logged in as: \u001b[33mimokuri\u001b[0m (use `wandb login --relogin` to force relogin)\n",
      "\u001b[34m\u001b[1mwandb\u001b[0m: wandb version 0.12.3 is available!  To upgrade, please run:\n",
      "\u001b[34m\u001b[1mwandb\u001b[0m:  $ pip install wandb --upgrade\n"
     ]
    },
    {
     "data": {
      "text/html": [
       "\n",
       "                Tracking run with wandb version 0.12.2<br/>\n",
       "                Syncing run <strong style=\"color:#cdcd00\">sweet-thunder-18</strong> to <a href=\"https://wandb.ai\" target=\"_blank\">Weights & Biases</a> <a href=\"https://docs.wandb.com/integrations/jupyter.html\" target=\"_blank\">(Documentation)</a>.<br/>\n",
       "                Project page: <a href=\"https://wandb.ai/imokuri/baseline\" target=\"_blank\">https://wandb.ai/imokuri/baseline</a><br/>\n",
       "                Run page: <a href=\"https://wandb.ai/imokuri/baseline/runs/mjrj38r4\" target=\"_blank\">https://wandb.ai/imokuri/baseline/runs/mjrj38r4</a><br/>\n",
       "                Run data is saved locally in <code>/data/jupyter/sugiyama/cassava/working/wandb/run-20211001_101654-mjrj38r4</code><br/><br/>\n",
       "            "
      ],
      "text/plain": [
       "<IPython.core.display.HTML object>"
      ]
     },
     "metadata": {},
     "output_type": "display_data"
    }
   ],
   "source": [
    "if Config.debug:\n",
    "    run = wandb.init(\n",
    "        entity=Config.wandb_entity,\n",
    "        project=Config.wandb_project,\n",
    "        config=config_defaults,\n",
    "        tags=wandb_tags,\n",
    "        mode=\"disabled\",\n",
    "    )\n",
    "else:\n",
    "    run = wandb.init(\n",
    "        entity=Config.wandb_entity,\n",
    "        project=Config.wandb_project,\n",
    "        config=config_defaults,\n",
    "        job_type=wandb_job_type,\n",
    "        tags=wandb_tags,\n",
    "        save_code=True,\n",
    "    )"
   ]
  },
  {
   "cell_type": "code",
   "execution_count": 15,
   "metadata": {
    "id": "0kD8_kP0JjAC"
   },
   "outputs": [],
   "source": [
    "config = wandb.config"
   ]
  },
  {
   "cell_type": "markdown",
   "metadata": {
    "id": "bYjWTUW9Jtem"
   },
   "source": [
    "# EDA 1"
   ]
  },
  {
   "cell_type": "code",
   "execution_count": 16,
   "metadata": {
    "colab": {
     "base_uri": "https://localhost:8080/",
     "height": 607
    },
    "id": "-dEUJ_P9Jwzw",
    "outputId": "b6bee62a-8a84-4431-bd69-cfaecfc65207"
   },
   "outputs": [
    {
     "name": "stdout",
     "output_type": "stream",
     "text": [
      "========================================================================================================================\n",
      "<class 'pandas.core.frame.DataFrame'>\n",
      "RangeIndex: 21397 entries, 0 to 21396\n",
      "Data columns (total 2 columns):\n",
      " #   Column    Non-Null Count  Dtype \n",
      "---  ------    --------------  ----- \n",
      " 0   image_id  21397 non-null  object\n",
      " 1   label     21397 non-null  int64 \n",
      "dtypes: int64(1), object(1)\n",
      "memory usage: 334.5+ KB\n"
     ]
    },
    {
     "data": {
      "text/html": [
       "<div>\n",
       "<style scoped>\n",
       "    .dataframe tbody tr th:only-of-type {\n",
       "        vertical-align: middle;\n",
       "    }\n",
       "\n",
       "    .dataframe tbody tr th {\n",
       "        vertical-align: top;\n",
       "    }\n",
       "\n",
       "    .dataframe thead th {\n",
       "        text-align: right;\n",
       "    }\n",
       "</style>\n",
       "<table border=\"1\" class=\"dataframe\">\n",
       "  <thead>\n",
       "    <tr style=\"text-align: right;\">\n",
       "      <th></th>\n",
       "      <th>image_id</th>\n",
       "      <th>label</th>\n",
       "    </tr>\n",
       "  </thead>\n",
       "  <tbody>\n",
       "    <tr>\n",
       "      <th>0</th>\n",
       "      <td>1000015157.jpg</td>\n",
       "      <td>0</td>\n",
       "    </tr>\n",
       "    <tr>\n",
       "      <th>1</th>\n",
       "      <td>1000201771.jpg</td>\n",
       "      <td>3</td>\n",
       "    </tr>\n",
       "    <tr>\n",
       "      <th>2</th>\n",
       "      <td>100042118.jpg</td>\n",
       "      <td>1</td>\n",
       "    </tr>\n",
       "    <tr>\n",
       "      <th>3</th>\n",
       "      <td>1000723321.jpg</td>\n",
       "      <td>1</td>\n",
       "    </tr>\n",
       "    <tr>\n",
       "      <th>4</th>\n",
       "      <td>1000812911.jpg</td>\n",
       "      <td>3</td>\n",
       "    </tr>\n",
       "  </tbody>\n",
       "</table>\n",
       "</div>"
      ],
      "text/plain": [
       "         image_id  label\n",
       "0  1000015157.jpg      0\n",
       "1  1000201771.jpg      3\n",
       "2   100042118.jpg      1\n",
       "3  1000723321.jpg      1\n",
       "4  1000812911.jpg      3"
      ]
     },
     "metadata": {},
     "output_type": "display_data"
    },
    {
     "name": "stdout",
     "output_type": "stream",
     "text": [
      "========================================================================================================================\n",
      "<class 'pandas.core.frame.DataFrame'>\n",
      "RangeIndex: 1 entries, 0 to 0\n",
      "Data columns (total 2 columns):\n",
      " #   Column    Non-Null Count  Dtype \n",
      "---  ------    --------------  ----- \n",
      " 0   image_id  1 non-null      object\n",
      " 1   label     1 non-null      int64 \n",
      "dtypes: int64(1), object(1)\n",
      "memory usage: 144.0+ bytes\n"
     ]
    },
    {
     "data": {
      "text/html": [
       "<div>\n",
       "<style scoped>\n",
       "    .dataframe tbody tr th:only-of-type {\n",
       "        vertical-align: middle;\n",
       "    }\n",
       "\n",
       "    .dataframe tbody tr th {\n",
       "        vertical-align: top;\n",
       "    }\n",
       "\n",
       "    .dataframe thead th {\n",
       "        text-align: right;\n",
       "    }\n",
       "</style>\n",
       "<table border=\"1\" class=\"dataframe\">\n",
       "  <thead>\n",
       "    <tr style=\"text-align: right;\">\n",
       "      <th></th>\n",
       "      <th>image_id</th>\n",
       "      <th>label</th>\n",
       "    </tr>\n",
       "  </thead>\n",
       "  <tbody>\n",
       "    <tr>\n",
       "      <th>0</th>\n",
       "      <td>2216849948.jpg</td>\n",
       "      <td>4</td>\n",
       "    </tr>\n",
       "  </tbody>\n",
       "</table>\n",
       "</div>"
      ],
      "text/plain": [
       "         image_id  label\n",
       "0  2216849948.jpg      4"
      ]
     },
     "metadata": {},
     "output_type": "display_data"
    }
   ],
   "source": [
    "# for df in [train, test, sub]:\n",
    "for df in [train, sub]:\n",
    "    print(f\"=\" * 120)\n",
    "    df.info()\n",
    "    display(df.head())"
   ]
  },
  {
   "cell_type": "code",
   "execution_count": 17,
   "metadata": {
    "colab": {
     "base_uri": "https://localhost:8080/",
     "height": 296
    },
    "id": "uK-vChyCKVhZ",
    "outputId": "b7079faf-595b-4266-93eb-b45a15b2bc8c"
   },
   "outputs": [
    {
     "data": {
      "text/plain": [
       "<AxesSubplot:xlabel='label'>"
      ]
     },
     "execution_count": 17,
     "metadata": {},
     "output_type": "execute_result"
    },
    {
     "data": {
      "image/png": "[encoded data removed]",
      "text/plain": [
       "<Figure size 432x288 with 1 Axes>"
      ]
     },
     "metadata": {
      "needs_background": "light"
     },
     "output_type": "display_data"
    }
   ],
   "source": [
    "sns.distplot(train[\"label\"], kde=False)"
   ]
  },
  {
   "cell_type": "markdown",
   "metadata": {
    "id": "-nN20A-4KeX2"
   },
   "source": [
    "# Preprocess"
   ]
  },
  {
   "cell_type": "code",
   "execution_count": 18,
   "metadata": {
    "id": "yJhnZyCOKf_8"
   },
   "outputs": [],
   "source": [
    "def get_transforms(*, data):\n",
    "    if data == \"train\":\n",
    "        return A.Compose(\n",
    "            [\n",
    "                # A.Resize(config.size, config.size),\n",
    "                A.RandomResizedCrop(config.size, config.size),\n",
    "                A.Transpose(p=0.5),\n",
    "                A.HorizontalFlip(p=0.5),\n",
    "                A.VerticalFlip(p=0.5),\n",
    "                A.ShiftScaleRotate(p=0.5),\n",
    "                A.Normalize(\n",
    "                    mean=[0.485, 0.456, 0.406],\n",
    "                    std=[0.229, 0.224, 0.225],\n",
    "                ),\n",
    "                ToTensorV2(),\n",
    "            ]\n",
    "        )\n",
    "\n",
    "    elif data == \"valid\":\n",
    "        return A.Compose(\n",
    "            [\n",
    "                A.Resize(config.size, config.size),\n",
    "                A.CenterCrop(config.size, config.size),\n",
    "                A.Normalize(\n",
    "                    mean=[0.485, 0.456, 0.406],\n",
    "                    std=[0.229, 0.224, 0.225],\n",
    "                ),\n",
    "                ToTensorV2(),\n",
    "            ]\n",
    "        )"
   ]
  },
  {
   "cell_type": "markdown",
   "metadata": {
    "id": "_kDt-OBGKg33"
   },
   "source": [
    "# EDA 2"
   ]
  },
  {
   "cell_type": "code",
   "execution_count": null,
   "metadata": {
    "id": "m2XP3TB7KhvW"
   },
   "outputs": [],
   "source": []
  },
  {
   "cell_type": "markdown",
   "metadata": {
    "id": "tFYIILAsKih4"
   },
   "source": [
    "# 👑 Load Artifacts"
   ]
  },
  {
   "cell_type": "code",
   "execution_count": 19,
   "metadata": {
    "id": "ahzUGk4sK6te"
   },
   "outputs": [],
   "source": [
    "if Config.debug:\n",
    "    train = train.sample(n=Config.num_debug_data, random_state=config.seed).reset_index(drop=True)\n",
    "    if len(sub) > Config.num_debug_data:\n",
    "        # test = test.sample(n=Config.num_debug_data, random_state=config.seed).reset_index(drop=True)\n",
    "        sub = sub.sample(n=Config.num_debug_data, random_state=config.seed).reset_index(drop=True)"
   ]
  },
  {
   "cell_type": "markdown",
   "metadata": {
    "id": "lF4pvz7-L7qT"
   },
   "source": [
    "# Utils"
   ]
  },
  {
   "cell_type": "code",
   "execution_count": 20,
   "metadata": {
    "id": "qrlmhizKMCku"
   },
   "outputs": [],
   "source": [
    "@contextmanager\n",
    "def timer(name):\n",
    "    t0 = time.time()\n",
    "    LOGGER.info(f\"[{name}] start\")\n",
    "    yield\n",
    "    LOGGER.info(f\"[{name}] done in {time.time() - t0:.0f} s.\")\n",
    "\n",
    "\n",
    "def init_logger(log_file=OUTPUT_DIR + \"train.log\"):\n",
    "    from logging import INFO, FileHandler, Formatter, StreamHandler, getLogger\n",
    "\n",
    "    logger = getLogger(__name__)\n",
    "    logger.setLevel(INFO)\n",
    "    handler1 = StreamHandler()\n",
    "    handler1.setFormatter(Formatter(\"%(message)s\"))\n",
    "    handler2 = FileHandler(filename=log_file)\n",
    "    handler2.setFormatter(Formatter(\"%(message)s\"))\n",
    "    logger.addHandler(handler1)\n",
    "    logger.addHandler(handler2)\n",
    "    return logger\n",
    "\n",
    "\n",
    "LOGGER = init_logger()\n",
    "\n",
    "\n",
    "def seed_torch(seed=42):\n",
    "    random.seed(seed)\n",
    "    os.environ[\"PYTHONHASHSEED\"] = str(seed)\n",
    "    np.random.seed(seed)\n",
    "    torch.manual_seed(seed)\n",
    "    torch.cuda.manual_seed(seed)\n",
    "    torch.cuda.manual_seed_all(seed)\n",
    "    torch.backends.cudnn.deterministic = True\n",
    "\n",
    "\n",
    "seed_torch(seed=config.seed)"
   ]
  },
  {
   "cell_type": "markdown",
   "metadata": {
    "id": "ClI1iqtWLqU0"
   },
   "source": [
    "# Make Fold"
   ]
  },
  {
   "cell_type": "code",
   "execution_count": 21,
   "metadata": {
    "colab": {
     "base_uri": "https://localhost:8080/"
    },
    "id": "raBuQ3EjLsmo",
    "outputId": "34daeb0b-754e-4661-ca9e-933cf98da029"
   },
   "outputs": [
    {
     "name": "stdout",
     "output_type": "stream",
     "text": [
      "fold  label\n",
      "0     0         218\n",
      "      1         438\n",
      "      2         477\n",
      "      3        2631\n",
      "      4         516\n",
      "1     0         218\n",
      "      1         438\n",
      "      2         477\n",
      "      3        2631\n",
      "      4         516\n",
      "2     0         217\n",
      "      1         438\n",
      "      2         477\n",
      "      3        2632\n",
      "      4         515\n",
      "3     0         217\n",
      "      1         438\n",
      "      2         477\n",
      "      3        2632\n",
      "      4         515\n",
      "4     0         217\n",
      "      1         437\n",
      "      2         478\n",
      "      3        2632\n",
      "      4         515\n",
      "dtype: int64\n"
     ]
    }
   ],
   "source": [
    "Fold = StratifiedKFold(n_splits=5, shuffle=True, random_state=seed)\n",
    "for n, (train_index, val_index) in enumerate(Fold.split(train, train[\"label\"])):\n",
    "    train.loc[val_index, \"fold\"] = int(n)\n",
    "train[\"fold\"] = train[\"fold\"].astype(np.int8)\n",
    "print(train.groupby([\"fold\", \"label\"]).size())"
   ]
  },
  {
   "cell_type": "markdown",
   "metadata": {
    "id": "EcKN3QPeMMFf"
   },
   "source": [
    "# Dataset"
   ]
  },
  {
   "cell_type": "code",
   "execution_count": 22,
   "metadata": {
    "id": "pX4piTk2MPVR"
   },
   "outputs": [],
   "source": [
    "class BaseDataset(Dataset):\n",
    "    def __init__(self, df, transform=None, label=True):\n",
    "        self.df = df\n",
    "        self.file_names = df[\"image_id\"].values\n",
    "        self.transform = transform\n",
    "\n",
    "        self.use_label = label\n",
    "        if self.use_label:\n",
    "            self.path = TRAIN_IMAGE_PATH\n",
    "            self.labels = df[\"label\"].values\n",
    "        else:\n",
    "            self.path = TEST_IMAGE_PATH\n",
    "\n",
    "    def __len__(self):\n",
    "        return len(self.df)\n",
    "\n",
    "    def __getitem__(self, idx):\n",
    "        file_name = self.file_names[idx]\n",
    "        file_path = f\"{self.path}/{file_name}\"\n",
    "        image = cv2.imread(file_path)\n",
    "        image = cv2.cvtColor(image, cv2.COLOR_BGR2RGB)\n",
    "        if self.transform:\n",
    "            augmented = self.transform(image=image)\n",
    "            image = augmented[\"image\"]\n",
    "        if self.use_label:\n",
    "            label = torch.tensor(self.labels[idx])\n",
    "            return image, label\n",
    "        return image"
   ]
  },
  {
   "cell_type": "code",
   "execution_count": 23,
   "metadata": {
    "colab": {
     "base_uri": "https://localhost:8080/",
     "height": 281
    },
    "id": "0CIysnf0OhGK",
    "outputId": "9ff2ea2f-3374-4a3b-e28e-acc95bba0227"
   },
   "outputs": [
    {
     "data": {
      "image/png": "[encoded data removed]",
      "text/plain": [
       "<Figure size 432x288 with 1 Axes>"
      ]
     },
     "metadata": {
      "needs_background": "light"
     },
     "output_type": "display_data"
    }
   ],
   "source": [
    "train_ds = BaseDataset(train)\n",
    "image, label = train_ds[0]\n",
    "plt.imshow(image)\n",
    "plt.title(f\"label: {label}\")\n",
    "plt.show()"
   ]
  },
  {
   "cell_type": "code",
   "execution_count": 24,
   "metadata": {
    "colab": {
     "base_uri": "https://localhost:8080/",
     "height": 281
    },
    "id": "JwLeTm_EP9kK",
    "outputId": "281d1494-53f0-4a1f-938a-c2dd26c4dcd2"
   },
   "outputs": [
    {
     "data": {
      "image/png": "[encoded data removed]",
      "text/plain": [
       "<Figure size 432x288 with 1 Axes>"
      ]
     },
     "metadata": {
      "needs_background": "light"
     },
     "output_type": "display_data"
    }
   ],
   "source": [
    "train_ds = BaseDataset(train, transform=get_transforms(data=\"train\"))\n",
    "image, label = train_ds[0]\n",
    "plt.imshow(image[0])\n",
    "plt.title(f\"label: {label}\")\n",
    "plt.show()"
   ]
  },
  {
   "cell_type": "markdown",
   "metadata": {
    "id": "nbrC2J4KPEp4"
   },
   "source": [
    "# 🚗 Model"
   ]
  },
  {
   "cell_type": "code",
   "execution_count": 25,
   "metadata": {
    "id": "827lYLgIPFyY"
   },
   "outputs": [],
   "source": [
    "class BaseModel(nn.Module):\n",
    "    def __init__(self, model_name, pretrained=True):\n",
    "        super().__init__()\n",
    "        self.model_name = model_name\n",
    "        self.model = timm.create_model(model_name, pretrained=pretrained)\n",
    "\n",
    "        if \"resnext50_32x4d\" in model_name:\n",
    "            n_features = self.model.fc.in_features\n",
    "            self.model.fc = nn.Linear(n_features, config.n_class)\n",
    "\n",
    "        elif model_name.startswith(\"tf_efficientnet\"):\n",
    "            n_features = self.model.classifier.in_features\n",
    "            self.model.classifier = nn.Linear(n_features, config.n_class)\n",
    "\n",
    "        elif model_name.startswith(\"vit_\"):\n",
    "            n_features = self.model.head.in_features\n",
    "            self.model.head = nn.Linear(n_features, config.n_class)\n",
    "\n",
    "    @amp.autocast(enabled=Config.amp)\n",
    "    def forward(self, x):\n",
    "        x = self.model(x)\n",
    "        return x"
   ]
  },
  {
   "cell_type": "code",
   "execution_count": 26,
   "metadata": {
    "colab": {
     "base_uri": "https://localhost:8080/"
    },
    "id": "oudAIpPqQt6z",
    "outputId": "aa43e851-1f76-4709-f135-d3eb7eb248ee"
   },
   "outputs": [
    {
     "name": "stdout",
     "output_type": "stream",
     "text": [
      "BaseModel(\n",
      "  (model): EfficientNet(\n",
      "    (conv_stem): Conv2dSame(3, 24, kernel_size=(3, 3), stride=(2, 2), bias=False)\n",
      "    (bn1): BatchNorm2d(24, eps=0.001, momentum=0.1, affine=True, track_running_stats=True)\n",
      "    (act1): SiLU(inplace=True)\n",
      "    (blocks): Sequential(\n",
      "      (0): Sequential(\n",
      "        (0): ConvBnAct(\n",
      "          (conv): Conv2d(24, 24, kernel_size=(3, 3), stride=(1, 1), padding=(1, 1), bias=False)\n",
      "          (bn1): BatchNorm2d(24, eps=0.001, momentum=0.1, affine=True, track_running_stats=True)\n",
      "          (act1): SiLU(inplace=True)\n",
      "        )\n",
      "        (1): ConvBnAct(\n",
      "          (conv): Conv2d(24, 24, kernel_size=(3, 3), stride=(1, 1), padding=(1, 1), bias=False)\n",
      "          (bn1): BatchNorm2d(24, eps=0.001, momentum=0.1, affine=True, track_running_stats=True)\n",
      "          (act1): SiLU(inplace=True)\n",
      "        )\n",
      "        (2): ConvBnAct(\n",
      "          (conv): Conv2d(24, 24, kernel_size=(3, 3), stride=(1, 1), padding=(1, 1), bias=False)\n",
      "          (bn1): BatchNorm2d(24, eps=0.001, momentum=0.1, affine=True, track_running_stats=True)\n",
      "          (act1): SiLU(inplace=True)\n",
      "        )\n",
      "      )\n",
      "      (1): Sequential(\n",
      "        (0): EdgeResidual(\n",
      "          (conv_exp): Conv2dSame(24, 96, kernel_size=(3, 3), stride=(2, 2), bias=False)\n",
      "          (bn1): BatchNorm2d(96, eps=0.001, momentum=0.1, affine=True, track_running_stats=True)\n",
      "          (act1): SiLU(inplace=True)\n",
      "          (se): Identity()\n",
      "          (conv_pwl): Conv2d(96, 48, kernel_size=(1, 1), stride=(1, 1), bias=False)\n",
      "          (bn2): BatchNorm2d(48, eps=0.001, momentum=0.1, affine=True, track_running_stats=True)\n",
      "        )\n",
      "        (1): EdgeResidual(\n",
      "          (conv_exp): Conv2d(48, 192, kernel_size=(3, 3), stride=(1, 1), padding=(1, 1), bias=False)\n",
      "          (bn1): BatchNorm2d(192, eps=0.001, momentum=0.1, affine=True, track_running_stats=True)\n",
      "          (act1): SiLU(inplace=True)\n",
      "          (se): Identity()\n",
      "          (conv_pwl): Conv2d(192, 48, kernel_size=(1, 1), stride=(1, 1), bias=False)\n",
      "          (bn2): BatchNorm2d(48, eps=0.001, momentum=0.1, affine=True, track_running_stats=True)\n",
      "        )\n",
      "        (2): EdgeResidual(\n",
      "          (conv_exp): Conv2d(48, 192, kernel_size=(3, 3), stride=(1, 1), padding=(1, 1), bias=False)\n",
      "          (bn1): BatchNorm2d(192, eps=0.001, momentum=0.1, affine=True, track_running_stats=True)\n",
      "          (act1): SiLU(inplace=True)\n",
      "          (se): Identity()\n",
      "          (conv_pwl): Conv2d(192, 48, kernel_size=(1, 1), stride=(1, 1), bias=False)\n",
      "          (bn2): BatchNorm2d(48, eps=0.001, momentum=0.1, affine=True, track_running_stats=True)\n",
      "        )\n",
      "        (3): EdgeResidual(\n",
      "          (conv_exp): Conv2d(48, 192, kernel_size=(3, 3), stride=(1, 1), padding=(1, 1), bias=False)\n",
      "          (bn1): BatchNorm2d(192, eps=0.001, momentum=0.1, affine=True, track_running_stats=True)\n",
      "          (act1): SiLU(inplace=True)\n",
      "          (se): Identity()\n",
      "          (conv_pwl): Conv2d(192, 48, kernel_size=(1, 1), stride=(1, 1), bias=False)\n",
      "          (bn2): BatchNorm2d(48, eps=0.001, momentum=0.1, affine=True, track_running_stats=True)\n",
      "        )\n",
      "        (4): EdgeResidual(\n",
      "          (conv_exp): Conv2d(48, 192, kernel_size=(3, 3), stride=(1, 1), padding=(1, 1), bias=False)\n",
      "          (bn1): BatchNorm2d(192, eps=0.001, momentum=0.1, affine=True, track_running_stats=True)\n",
      "          (act1): SiLU(inplace=True)\n",
      "          (se): Identity()\n",
      "          (conv_pwl): Conv2d(192, 48, kernel_size=(1, 1), stride=(1, 1), bias=False)\n",
      "          (bn2): BatchNorm2d(48, eps=0.001, momentum=0.1, affine=True, track_running_stats=True)\n",
      "        )\n",
      "      )\n",
      "      (2): Sequential(\n",
      "        (0): EdgeResidual(\n",
      "          (conv_exp): Conv2dSame(48, 192, kernel_size=(3, 3), stride=(2, 2), bias=False)\n",
      "          (bn1): BatchNorm2d(192, eps=0.001, momentum=0.1, affine=True, track_running_stats=True)\n",
      "          (act1): SiLU(inplace=True)\n",
      "          (se): Identity()\n",
      "          (conv_pwl): Conv2d(192, 80, kernel_size=(1, 1), stride=(1, 1), bias=False)\n",
      "          (bn2): BatchNorm2d(80, eps=0.001, momentum=0.1, affine=True, track_running_stats=True)\n",
      "        )\n",
      "        (1): EdgeResidual(\n",
      "          (conv_exp): Conv2d(80, 320, kernel_size=(3, 3), stride=(1, 1), padding=(1, 1), bias=False)\n",
      "          (bn1): BatchNorm2d(320, eps=0.001, momentum=0.1, affine=True, track_running_stats=True)\n",
      "          (act1): SiLU(inplace=True)\n",
      "          (se): Identity()\n",
      "          (conv_pwl): Conv2d(320, 80, kernel_size=(1, 1), stride=(1, 1), bias=False)\n",
      "          (bn2): BatchNorm2d(80, eps=0.001, momentum=0.1, affine=True, track_running_stats=True)\n",
      "        )\n",
      "        (2): EdgeResidual(\n",
      "          (conv_exp): Conv2d(80, 320, kernel_size=(3, 3), stride=(1, 1), padding=(1, 1), bias=False)\n",
      "          (bn1): BatchNorm2d(320, eps=0.001, momentum=0.1, affine=True, track_running_stats=True)\n",
      "          (act1): SiLU(inplace=True)\n",
      "          (se): Identity()\n",
      "          (conv_pwl): Conv2d(320, 80, kernel_size=(1, 1), stride=(1, 1), bias=False)\n",
      "          (bn2): BatchNorm2d(80, eps=0.001, momentum=0.1, affine=True, track_running_stats=True)\n",
      "        )\n",
      "        (3): EdgeResidual(\n",
      "          (conv_exp): Conv2d(80, 320, kernel_size=(3, 3), stride=(1, 1), padding=(1, 1), bias=False)\n",
      "          (bn1): BatchNorm2d(320, eps=0.001, momentum=0.1, affine=True, track_running_stats=True)\n",
      "          (act1): SiLU(inplace=True)\n",
      "          (se): Identity()\n",
      "          (conv_pwl): Conv2d(320, 80, kernel_size=(1, 1), stride=(1, 1), bias=False)\n",
      "          (bn2): BatchNorm2d(80, eps=0.001, momentum=0.1, affine=True, track_running_stats=True)\n",
      "        )\n",
      "        (4): EdgeResidual(\n",
      "          (conv_exp): Conv2d(80, 320, kernel_size=(3, 3), stride=(1, 1), padding=(1, 1), bias=False)\n",
      "          (bn1): BatchNorm2d(320, eps=0.001, momentum=0.1, affine=True, track_running_stats=True)\n",
      "          (act1): SiLU(inplace=True)\n",
      "          (se): Identity()\n",
      "          (conv_pwl): Conv2d(320, 80, kernel_size=(1, 1), stride=(1, 1), bias=False)\n",
      "          (bn2): BatchNorm2d(80, eps=0.001, momentum=0.1, affine=True, track_running_stats=True)\n",
      "        )\n",
      "      )\n",
      "      (3): Sequential(\n",
      "        (0): InvertedResidual(\n",
      "          (conv_pw): Conv2d(80, 320, kernel_size=(1, 1), stride=(1, 1), bias=False)\n",
      "          (bn1): BatchNorm2d(320, eps=0.001, momentum=0.1, affine=True, track_running_stats=True)\n",
      "          (act1): SiLU(inplace=True)\n",
      "          (conv_dw): Conv2dSame(320, 320, kernel_size=(3, 3), stride=(2, 2), groups=320, bias=False)\n",
      "          (bn2): BatchNorm2d(320, eps=0.001, momentum=0.1, affine=True, track_running_stats=True)\n",
      "          (act2): SiLU(inplace=True)\n",
      "          (se): SqueezeExcite(\n",
      "            (conv_reduce): Conv2d(320, 20, kernel_size=(1, 1), stride=(1, 1))\n",
      "            (act1): SiLU(inplace=True)\n",
      "            (conv_expand): Conv2d(20, 320, kernel_size=(1, 1), stride=(1, 1))\n",
      "            (gate): Sigmoid()\n",
      "          )\n",
      "          (conv_pwl): Conv2d(320, 160, kernel_size=(1, 1), stride=(1, 1), bias=False)\n",
      "          (bn3): BatchNorm2d(160, eps=0.001, momentum=0.1, affine=True, track_running_stats=True)\n",
      "        )\n",
      "        (1): InvertedResidual(\n",
      "          (conv_pw): Conv2d(160, 640, kernel_size=(1, 1), stride=(1, 1), bias=False)\n",
      "          (bn1): BatchNorm2d(640, eps=0.001, momentum=0.1, affine=True, track_running_stats=True)\n",
      "          (act1): SiLU(inplace=True)\n",
      "          (conv_dw): Conv2d(640, 640, kernel_size=(3, 3), stride=(1, 1), padding=(1, 1), groups=640, bias=False)\n",
      "          (bn2): BatchNorm2d(640, eps=0.001, momentum=0.1, affine=True, track_running_stats=True)\n",
      "          (act2): SiLU(inplace=True)\n",
      "          (se): SqueezeExcite(\n",
      "            (conv_reduce): Conv2d(640, 40, kernel_size=(1, 1), stride=(1, 1))\n",
      "            (act1): SiLU(inplace=True)\n",
      "            (conv_expand): Conv2d(40, 640, kernel_size=(1, 1), stride=(1, 1))\n",
      "            (gate): Sigmoid()\n",
      "          )\n",
      "          (conv_pwl): Conv2d(640, 160, kernel_size=(1, 1), stride=(1, 1), bias=False)\n",
      "          (bn3): BatchNorm2d(160, eps=0.001, momentum=0.1, affine=True, track_running_stats=True)\n",
      "        )\n",
      "        (2): InvertedResidual(\n",
      "          (conv_pw): Conv2d(160, 640, kernel_size=(1, 1), stride=(1, 1), bias=False)\n",
      "          (bn1): BatchNorm2d(640, eps=0.001, momentum=0.1, affine=True, track_running_stats=True)\n",
      "          (act1): SiLU(inplace=True)\n",
      "          (conv_dw): Conv2d(640, 640, kernel_size=(3, 3), stride=(1, 1), padding=(1, 1), groups=640, bias=False)\n",
      "          (bn2): BatchNorm2d(640, eps=0.001, momentum=0.1, affine=True, track_running_stats=True)\n",
      "          (act2): SiLU(inplace=True)\n",
      "          (se): SqueezeExcite(\n",
      "            (conv_reduce): Conv2d(640, 40, kernel_size=(1, 1), stride=(1, 1))\n",
      "            (act1): SiLU(inplace=True)\n",
      "            (conv_expand): Conv2d(40, 640, kernel_size=(1, 1), stride=(1, 1))\n",
      "            (gate): Sigmoid()\n",
      "          )\n",
      "          (conv_pwl): Conv2d(640, 160, kernel_size=(1, 1), stride=(1, 1), bias=False)\n",
      "          (bn3): BatchNorm2d(160, eps=0.001, momentum=0.1, affine=True, track_running_stats=True)\n",
      "        )\n",
      "        (3): InvertedResidual(\n",
      "          (conv_pw): Conv2d(160, 640, kernel_size=(1, 1), stride=(1, 1), bias=False)\n",
      "          (bn1): BatchNorm2d(640, eps=0.001, momentum=0.1, affine=True, track_running_stats=True)\n",
      "          (act1): SiLU(inplace=True)\n",
      "          (conv_dw): Conv2d(640, 640, kernel_size=(3, 3), stride=(1, 1), padding=(1, 1), groups=640, bias=False)\n",
      "          (bn2): BatchNorm2d(640, eps=0.001, momentum=0.1, affine=True, track_running_stats=True)\n",
      "          (act2): SiLU(inplace=True)\n",
      "          (se): SqueezeExcite(\n",
      "            (conv_reduce): Conv2d(640, 40, kernel_size=(1, 1), stride=(1, 1))\n",
      "            (act1): SiLU(inplace=True)\n",
      "            (conv_expand): Conv2d(40, 640, kernel_size=(1, 1), stride=(1, 1))\n",
      "            (gate): Sigmoid()\n",
      "          )\n",
      "          (conv_pwl): Conv2d(640, 160, kernel_size=(1, 1), stride=(1, 1), bias=False)\n",
      "          (bn3): BatchNorm2d(160, eps=0.001, momentum=0.1, affine=True, track_running_stats=True)\n",
      "        )\n",
      "        (4): InvertedResidual(\n",
      "          (conv_pw): Conv2d(160, 640, kernel_size=(1, 1), stride=(1, 1), bias=False)\n",
      "          (bn1): BatchNorm2d(640, eps=0.001, momentum=0.1, affine=True, track_running_stats=True)\n",
      "          (act1): SiLU(inplace=True)\n",
      "          (conv_dw): Conv2d(640, 640, kernel_size=(3, 3), stride=(1, 1), padding=(1, 1), groups=640, bias=False)\n",
      "          (bn2): BatchNorm2d(640, eps=0.001, momentum=0.1, affine=True, track_running_stats=True)\n",
      "          (act2): SiLU(inplace=True)\n",
      "          (se): SqueezeExcite(\n",
      "            (conv_reduce): Conv2d(640, 40, kernel_size=(1, 1), stride=(1, 1))\n",
      "            (act1): SiLU(inplace=True)\n",
      "            (conv_expand): Conv2d(40, 640, kernel_size=(1, 1), stride=(1, 1))\n",
      "            (gate): Sigmoid()\n",
      "          )\n",
      "          (conv_pwl): Conv2d(640, 160, kernel_size=(1, 1), stride=(1, 1), bias=False)\n",
      "          (bn3): BatchNorm2d(160, eps=0.001, momentum=0.1, affine=True, track_running_stats=True)\n",
      "        )\n",
      "        (5): InvertedResidual(\n",
      "          (conv_pw): Conv2d(160, 640, kernel_size=(1, 1), stride=(1, 1), bias=False)\n",
      "          (bn1): BatchNorm2d(640, eps=0.001, momentum=0.1, affine=True, track_running_stats=True)\n",
      "          (act1): SiLU(inplace=True)\n",
      "          (conv_dw): Conv2d(640, 640, kernel_size=(3, 3), stride=(1, 1), padding=(1, 1), groups=640, bias=False)\n",
      "          (bn2): BatchNorm2d(640, eps=0.001, momentum=0.1, affine=True, track_running_stats=True)\n",
      "          (act2): SiLU(inplace=True)\n",
      "          (se): SqueezeExcite(\n",
      "            (conv_reduce): Conv2d(640, 40, kernel_size=(1, 1), stride=(1, 1))\n",
      "            (act1): SiLU(inplace=True)\n",
      "            (conv_expand): Conv2d(40, 640, kernel_size=(1, 1), stride=(1, 1))\n",
      "            (gate): Sigmoid()\n",
      "          )\n",
      "          (conv_pwl): Conv2d(640, 160, kernel_size=(1, 1), stride=(1, 1), bias=False)\n",
      "          (bn3): BatchNorm2d(160, eps=0.001, momentum=0.1, affine=True, track_running_stats=True)\n",
      "        )\n",
      "        (6): InvertedResidual(\n",
      "          (conv_pw): Conv2d(160, 640, kernel_size=(1, 1), stride=(1, 1), bias=False)\n",
      "          (bn1): BatchNorm2d(640, eps=0.001, momentum=0.1, affine=True, track_running_stats=True)\n",
      "          (act1): SiLU(inplace=True)\n",
      "          (conv_dw): Conv2d(640, 640, kernel_size=(3, 3), stride=(1, 1), padding=(1, 1), groups=640, bias=False)\n",
      "          (bn2): BatchNorm2d(640, eps=0.001, momentum=0.1, affine=True, track_running_stats=True)\n",
      "          (act2): SiLU(inplace=True)\n",
      "          (se): SqueezeExcite(\n",
      "            (conv_reduce): Conv2d(640, 40, kernel_size=(1, 1), stride=(1, 1))\n",
      "            (act1): SiLU(inplace=True)\n",
      "            (conv_expand): Conv2d(40, 640, kernel_size=(1, 1), stride=(1, 1))\n",
      "            (gate): Sigmoid()\n",
      "          )\n",
      "          (conv_pwl): Conv2d(640, 160, kernel_size=(1, 1), stride=(1, 1), bias=False)\n",
      "          (bn3): BatchNorm2d(160, eps=0.001, momentum=0.1, affine=True, track_running_stats=True)\n",
      "        )\n",
      "      )\n",
      "      (4): Sequential(\n",
      "        (0): InvertedResidual(\n",
      "          (conv_pw): Conv2d(160, 960, kernel_size=(1, 1), stride=(1, 1), bias=False)\n",
      "          (bn1): BatchNorm2d(960, eps=0.001, momentum=0.1, affine=True, track_running_stats=True)\n",
      "          (act1): SiLU(inplace=True)\n",
      "          (conv_dw): Conv2d(960, 960, kernel_size=(3, 3), stride=(1, 1), padding=(1, 1), groups=960, bias=False)\n",
      "          (bn2): BatchNorm2d(960, eps=0.001, momentum=0.1, affine=True, track_running_stats=True)\n",
      "          (act2): SiLU(inplace=True)\n",
      "          (se): SqueezeExcite(\n",
      "            (conv_reduce): Conv2d(960, 40, kernel_size=(1, 1), stride=(1, 1))\n",
      "            (act1): SiLU(inplace=True)\n",
      "            (conv_expand): Conv2d(40, 960, kernel_size=(1, 1), stride=(1, 1))\n",
      "            (gate): Sigmoid()\n",
      "          )\n",
      "          (conv_pwl): Conv2d(960, 176, kernel_size=(1, 1), stride=(1, 1), bias=False)\n",
      "          (bn3): BatchNorm2d(176, eps=0.001, momentum=0.1, affine=True, track_running_stats=True)\n",
      "        )\n",
      "        (1): InvertedResidual(\n",
      "          (conv_pw): Conv2d(176, 1056, kernel_size=(1, 1), stride=(1, 1), bias=False)\n",
      "          (bn1): BatchNorm2d(1056, eps=0.001, momentum=0.1, affine=True, track_running_stats=True)\n",
      "          (act1): SiLU(inplace=True)\n",
      "          (conv_dw): Conv2d(1056, 1056, kernel_size=(3, 3), stride=(1, 1), padding=(1, 1), groups=1056, bias=False)\n",
      "          (bn2): BatchNorm2d(1056, eps=0.001, momentum=0.1, affine=True, track_running_stats=True)\n",
      "          (act2): SiLU(inplace=True)\n",
      "          (se): SqueezeExcite(\n",
      "            (conv_reduce): Conv2d(1056, 44, kernel_size=(1, 1), stride=(1, 1))\n",
      "            (act1): SiLU(inplace=True)\n",
      "            (conv_expand): Conv2d(44, 1056, kernel_size=(1, 1), stride=(1, 1))\n",
      "            (gate): Sigmoid()\n",
      "          )\n",
      "          (conv_pwl): Conv2d(1056, 176, kernel_size=(1, 1), stride=(1, 1), bias=False)\n",
      "          (bn3): BatchNorm2d(176, eps=0.001, momentum=0.1, affine=True, track_running_stats=True)\n",
      "        )\n",
      "        (2): InvertedResidual(\n",
      "          (conv_pw): Conv2d(176, 1056, kernel_size=(1, 1), stride=(1, 1), bias=False)\n",
      "          (bn1): BatchNorm2d(1056, eps=0.001, momentum=0.1, affine=True, track_running_stats=True)\n",
      "          (act1): SiLU(inplace=True)\n",
      "          (conv_dw): Conv2d(1056, 1056, kernel_size=(3, 3), stride=(1, 1), padding=(1, 1), groups=1056, bias=False)\n",
      "          (bn2): BatchNorm2d(1056, eps=0.001, momentum=0.1, affine=True, track_running_stats=True)\n",
      "          (act2): SiLU(inplace=True)\n",
      "          (se): SqueezeExcite(\n",
      "            (conv_reduce): Conv2d(1056, 44, kernel_size=(1, 1), stride=(1, 1))\n",
      "            (act1): SiLU(inplace=True)\n",
      "            (conv_expand): Conv2d(44, 1056, kernel_size=(1, 1), stride=(1, 1))\n",
      "            (gate): Sigmoid()\n",
      "          )\n",
      "          (conv_pwl): Conv2d(1056, 176, kernel_size=(1, 1), stride=(1, 1), bias=False)\n",
      "          (bn3): BatchNorm2d(176, eps=0.001, momentum=0.1, affine=True, track_running_stats=True)\n",
      "        )\n",
      "        (3): InvertedResidual(\n",
      "          (conv_pw): Conv2d(176, 1056, kernel_size=(1, 1), stride=(1, 1), bias=False)\n",
      "          (bn1): BatchNorm2d(1056, eps=0.001, momentum=0.1, affine=True, track_running_stats=True)\n",
      "          (act1): SiLU(inplace=True)\n",
      "          (conv_dw): Conv2d(1056, 1056, kernel_size=(3, 3), stride=(1, 1), padding=(1, 1), groups=1056, bias=False)\n",
      "          (bn2): BatchNorm2d(1056, eps=0.001, momentum=0.1, affine=True, track_running_stats=True)\n",
      "          (act2): SiLU(inplace=True)\n",
      "          (se): SqueezeExcite(\n",
      "            (conv_reduce): Conv2d(1056, 44, kernel_size=(1, 1), stride=(1, 1))\n",
      "            (act1): SiLU(inplace=True)\n",
      "            (conv_expand): Conv2d(44, 1056, kernel_size=(1, 1), stride=(1, 1))\n",
      "            (gate): Sigmoid()\n",
      "          )\n",
      "          (conv_pwl): Conv2d(1056, 176, kernel_size=(1, 1), stride=(1, 1), bias=False)\n",
      "          (bn3): BatchNorm2d(176, eps=0.001, momentum=0.1, affine=True, track_running_stats=True)\n",
      "        )\n",
      "        (4): InvertedResidual(\n",
      "          (conv_pw): Conv2d(176, 1056, kernel_size=(1, 1), stride=(1, 1), bias=False)\n",
      "          (bn1): BatchNorm2d(1056, eps=0.001, momentum=0.1, affine=True, track_running_stats=True)\n",
      "          (act1): SiLU(inplace=True)\n",
      "          (conv_dw): Conv2d(1056, 1056, kernel_size=(3, 3), stride=(1, 1), padding=(1, 1), groups=1056, bias=False)\n",
      "          (bn2): BatchNorm2d(1056, eps=0.001, momentum=0.1, affine=True, track_running_stats=True)\n",
      "          (act2): SiLU(inplace=True)\n",
      "          (se): SqueezeExcite(\n",
      "            (conv_reduce): Conv2d(1056, 44, kernel_size=(1, 1), stride=(1, 1))\n",
      "            (act1): SiLU(inplace=True)\n",
      "            (conv_expand): Conv2d(44, 1056, kernel_size=(1, 1), stride=(1, 1))\n",
      "            (gate): Sigmoid()\n",
      "          )\n",
      "          (conv_pwl): Conv2d(1056, 176, kernel_size=(1, 1), stride=(1, 1), bias=False)\n",
      "          (bn3): BatchNorm2d(176, eps=0.001, momentum=0.1, affine=True, track_running_stats=True)\n",
      "        )\n",
      "        (5): InvertedResidual(\n",
      "          (conv_pw): Conv2d(176, 1056, kernel_size=(1, 1), stride=(1, 1), bias=False)\n",
      "          (bn1): BatchNorm2d(1056, eps=0.001, momentum=0.1, affine=True, track_running_stats=True)\n",
      "          (act1): SiLU(inplace=True)\n",
      "          (conv_dw): Conv2d(1056, 1056, kernel_size=(3, 3), stride=(1, 1), padding=(1, 1), groups=1056, bias=False)\n",
      "          (bn2): BatchNorm2d(1056, eps=0.001, momentum=0.1, affine=True, track_running_stats=True)\n",
      "          (act2): SiLU(inplace=True)\n",
      "          (se): SqueezeExcite(\n",
      "            (conv_reduce): Conv2d(1056, 44, kernel_size=(1, 1), stride=(1, 1))\n",
      "            (act1): SiLU(inplace=True)\n",
      "            (conv_expand): Conv2d(44, 1056, kernel_size=(1, 1), stride=(1, 1))\n",
      "            (gate): Sigmoid()\n",
      "          )\n",
      "          (conv_pwl): Conv2d(1056, 176, kernel_size=(1, 1), stride=(1, 1), bias=False)\n",
      "          (bn3): BatchNorm2d(176, eps=0.001, momentum=0.1, affine=True, track_running_stats=True)\n",
      "        )\n",
      "        (6): InvertedResidual(\n",
      "          (conv_pw): Conv2d(176, 1056, kernel_size=(1, 1), stride=(1, 1), bias=False)\n",
      "          (bn1): BatchNorm2d(1056, eps=0.001, momentum=0.1, affine=True, track_running_stats=True)\n",
      "          (act1): SiLU(inplace=True)\n",
      "          (conv_dw): Conv2d(1056, 1056, kernel_size=(3, 3), stride=(1, 1), padding=(1, 1), groups=1056, bias=False)\n",
      "          (bn2): BatchNorm2d(1056, eps=0.001, momentum=0.1, affine=True, track_running_stats=True)\n",
      "          (act2): SiLU(inplace=True)\n",
      "          (se): SqueezeExcite(\n",
      "            (conv_reduce): Conv2d(1056, 44, kernel_size=(1, 1), stride=(1, 1))\n",
      "            (act1): SiLU(inplace=True)\n",
      "            (conv_expand): Conv2d(44, 1056, kernel_size=(1, 1), stride=(1, 1))\n",
      "            (gate): Sigmoid()\n",
      "          )\n",
      "          (conv_pwl): Conv2d(1056, 176, kernel_size=(1, 1), stride=(1, 1), bias=False)\n",
      "          (bn3): BatchNorm2d(176, eps=0.001, momentum=0.1, affine=True, track_running_stats=True)\n",
      "        )\n",
      "        (7): InvertedResidual(\n",
      "          (conv_pw): Conv2d(176, 1056, kernel_size=(1, 1), stride=(1, 1), bias=False)\n",
      "          (bn1): BatchNorm2d(1056, eps=0.001, momentum=0.1, affine=True, track_running_stats=True)\n",
      "          (act1): SiLU(inplace=True)\n",
      "          (conv_dw): Conv2d(1056, 1056, kernel_size=(3, 3), stride=(1, 1), padding=(1, 1), groups=1056, bias=False)\n",
      "          (bn2): BatchNorm2d(1056, eps=0.001, momentum=0.1, affine=True, track_running_stats=True)\n",
      "          (act2): SiLU(inplace=True)\n",
      "          (se): SqueezeExcite(\n",
      "            (conv_reduce): Conv2d(1056, 44, kernel_size=(1, 1), stride=(1, 1))\n",
      "            (act1): SiLU(inplace=True)\n",
      "            (conv_expand): Conv2d(44, 1056, kernel_size=(1, 1), stride=(1, 1))\n",
      "            (gate): Sigmoid()\n",
      "          )\n",
      "          (conv_pwl): Conv2d(1056, 176, kernel_size=(1, 1), stride=(1, 1), bias=False)\n",
      "          (bn3): BatchNorm2d(176, eps=0.001, momentum=0.1, affine=True, track_running_stats=True)\n",
      "        )\n",
      "        (8): InvertedResidual(\n",
      "          (conv_pw): Conv2d(176, 1056, kernel_size=(1, 1), stride=(1, 1), bias=False)\n",
      "          (bn1): BatchNorm2d(1056, eps=0.001, momentum=0.1, affine=True, track_running_stats=True)\n",
      "          (act1): SiLU(inplace=True)\n",
      "          (conv_dw): Conv2d(1056, 1056, kernel_size=(3, 3), stride=(1, 1), padding=(1, 1), groups=1056, bias=False)\n",
      "          (bn2): BatchNorm2d(1056, eps=0.001, momentum=0.1, affine=True, track_running_stats=True)\n",
      "          (act2): SiLU(inplace=True)\n",
      "          (se): SqueezeExcite(\n",
      "            (conv_reduce): Conv2d(1056, 44, kernel_size=(1, 1), stride=(1, 1))\n",
      "            (act1): SiLU(inplace=True)\n",
      "            (conv_expand): Conv2d(44, 1056, kernel_size=(1, 1), stride=(1, 1))\n",
      "            (gate): Sigmoid()\n",
      "          )\n",
      "          (conv_pwl): Conv2d(1056, 176, kernel_size=(1, 1), stride=(1, 1), bias=False)\n",
      "          (bn3): BatchNorm2d(176, eps=0.001, momentum=0.1, affine=True, track_running_stats=True)\n",
      "        )\n",
      "        (9): InvertedResidual(\n",
      "          (conv_pw): Conv2d(176, 1056, kernel_size=(1, 1), stride=(1, 1), bias=False)\n",
      "          (bn1): BatchNorm2d(1056, eps=0.001, momentum=0.1, affine=True, track_running_stats=True)\n",
      "          (act1): SiLU(inplace=True)\n",
      "          (conv_dw): Conv2d(1056, 1056, kernel_size=(3, 3), stride=(1, 1), padding=(1, 1), groups=1056, bias=False)\n",
      "          (bn2): BatchNorm2d(1056, eps=0.001, momentum=0.1, affine=True, track_running_stats=True)\n",
      "          (act2): SiLU(inplace=True)\n",
      "          (se): SqueezeExcite(\n",
      "            (conv_reduce): Conv2d(1056, 44, kernel_size=(1, 1), stride=(1, 1))\n",
      "            (act1): SiLU(inplace=True)\n",
      "            (conv_expand): Conv2d(44, 1056, kernel_size=(1, 1), stride=(1, 1))\n",
      "            (gate): Sigmoid()\n",
      "          )\n",
      "          (conv_pwl): Conv2d(1056, 176, kernel_size=(1, 1), stride=(1, 1), bias=False)\n",
      "          (bn3): BatchNorm2d(176, eps=0.001, momentum=0.1, affine=True, track_running_stats=True)\n",
      "        )\n",
      "        (10): InvertedResidual(\n",
      "          (conv_pw): Conv2d(176, 1056, kernel_size=(1, 1), stride=(1, 1), bias=False)\n",
      "          (bn1): BatchNorm2d(1056, eps=0.001, momentum=0.1, affine=True, track_running_stats=True)\n",
      "          (act1): SiLU(inplace=True)\n",
      "          (conv_dw): Conv2d(1056, 1056, kernel_size=(3, 3), stride=(1, 1), padding=(1, 1), groups=1056, bias=False)\n",
      "          (bn2): BatchNorm2d(1056, eps=0.001, momentum=0.1, affine=True, track_running_stats=True)\n",
      "          (act2): SiLU(inplace=True)\n",
      "          (se): SqueezeExcite(\n",
      "            (conv_reduce): Conv2d(1056, 44, kernel_size=(1, 1), stride=(1, 1))\n",
      "            (act1): SiLU(inplace=True)\n",
      "            (conv_expand): Conv2d(44, 1056, kernel_size=(1, 1), stride=(1, 1))\n",
      "            (gate): Sigmoid()\n",
      "          )\n",
      "          (conv_pwl): Conv2d(1056, 176, kernel_size=(1, 1), stride=(1, 1), bias=False)\n",
      "          (bn3): BatchNorm2d(176, eps=0.001, momentum=0.1, affine=True, track_running_stats=True)\n",
      "        )\n",
      "        (11): InvertedResidual(\n",
      "          (conv_pw): Conv2d(176, 1056, kernel_size=(1, 1), stride=(1, 1), bias=False)\n",
      "          (bn1): BatchNorm2d(1056, eps=0.001, momentum=0.1, affine=True, track_running_stats=True)\n",
      "          (act1): SiLU(inplace=True)\n",
      "          (conv_dw): Conv2d(1056, 1056, kernel_size=(3, 3), stride=(1, 1), padding=(1, 1), groups=1056, bias=False)\n",
      "          (bn2): BatchNorm2d(1056, eps=0.001, momentum=0.1, affine=True, track_running_stats=True)\n",
      "          (act2): SiLU(inplace=True)\n",
      "          (se): SqueezeExcite(\n",
      "            (conv_reduce): Conv2d(1056, 44, kernel_size=(1, 1), stride=(1, 1))\n",
      "            (act1): SiLU(inplace=True)\n",
      "            (conv_expand): Conv2d(44, 1056, kernel_size=(1, 1), stride=(1, 1))\n",
      "            (gate): Sigmoid()\n",
      "          )\n",
      "          (conv_pwl): Conv2d(1056, 176, kernel_size=(1, 1), stride=(1, 1), bias=False)\n",
      "          (bn3): BatchNorm2d(176, eps=0.001, momentum=0.1, affine=True, track_running_stats=True)\n",
      "        )\n",
      "        (12): InvertedResidual(\n",
      "          (conv_pw): Conv2d(176, 1056, kernel_size=(1, 1), stride=(1, 1), bias=False)\n",
      "          (bn1): BatchNorm2d(1056, eps=0.001, momentum=0.1, affine=True, track_running_stats=True)\n",
      "          (act1): SiLU(inplace=True)\n",
      "          (conv_dw): Conv2d(1056, 1056, kernel_size=(3, 3), stride=(1, 1), padding=(1, 1), groups=1056, bias=False)\n",
      "          (bn2): BatchNorm2d(1056, eps=0.001, momentum=0.1, affine=True, track_running_stats=True)\n",
      "          (act2): SiLU(inplace=True)\n",
      "          (se): SqueezeExcite(\n",
      "            (conv_reduce): Conv2d(1056, 44, kernel_size=(1, 1), stride=(1, 1))\n",
      "            (act1): SiLU(inplace=True)\n",
      "            (conv_expand): Conv2d(44, 1056, kernel_size=(1, 1), stride=(1, 1))\n",
      "            (gate): Sigmoid()\n",
      "          )\n",
      "          (conv_pwl): Conv2d(1056, 176, kernel_size=(1, 1), stride=(1, 1), bias=False)\n",
      "          (bn3): BatchNorm2d(176, eps=0.001, momentum=0.1, affine=True, track_running_stats=True)\n",
      "        )\n",
      "        (13): InvertedResidual(\n",
      "          (conv_pw): Conv2d(176, 1056, kernel_size=(1, 1), stride=(1, 1), bias=False)\n",
      "          (bn1): BatchNorm2d(1056, eps=0.001, momentum=0.1, affine=True, track_running_stats=True)\n",
      "          (act1): SiLU(inplace=True)\n",
      "          (conv_dw): Conv2d(1056, 1056, kernel_size=(3, 3), stride=(1, 1), padding=(1, 1), groups=1056, bias=False)\n",
      "          (bn2): BatchNorm2d(1056, eps=0.001, momentum=0.1, affine=True, track_running_stats=True)\n",
      "          (act2): SiLU(inplace=True)\n",
      "          (se): SqueezeExcite(\n",
      "            (conv_reduce): Conv2d(1056, 44, kernel_size=(1, 1), stride=(1, 1))\n",
      "            (act1): SiLU(inplace=True)\n",
      "            (conv_expand): Conv2d(44, 1056, kernel_size=(1, 1), stride=(1, 1))\n",
      "            (gate): Sigmoid()\n",
      "          )\n",
      "          (conv_pwl): Conv2d(1056, 176, kernel_size=(1, 1), stride=(1, 1), bias=False)\n",
      "          (bn3): BatchNorm2d(176, eps=0.001, momentum=0.1, affine=True, track_running_stats=True)\n",
      "        )\n",
      "      )\n",
      "      (5): Sequential(\n",
      "        (0): InvertedResidual(\n",
      "          (conv_pw): Conv2d(176, 1056, kernel_size=(1, 1), stride=(1, 1), bias=False)\n",
      "          (bn1): BatchNorm2d(1056, eps=0.001, momentum=0.1, affine=True, track_running_stats=True)\n",
      "          (act1): SiLU(inplace=True)\n",
      "          (conv_dw): Conv2dSame(1056, 1056, kernel_size=(3, 3), stride=(2, 2), groups=1056, bias=False)\n",
      "          (bn2): BatchNorm2d(1056, eps=0.001, momentum=0.1, affine=True, track_running_stats=True)\n",
      "          (act2): SiLU(inplace=True)\n",
      "          (se): SqueezeExcite(\n",
      "            (conv_reduce): Conv2d(1056, 44, kernel_size=(1, 1), stride=(1, 1))\n",
      "            (act1): SiLU(inplace=True)\n",
      "            (conv_expand): Conv2d(44, 1056, kernel_size=(1, 1), stride=(1, 1))\n",
      "            (gate): Sigmoid()\n",
      "          )\n",
      "          (conv_pwl): Conv2d(1056, 304, kernel_size=(1, 1), stride=(1, 1), bias=False)\n",
      "          (bn3): BatchNorm2d(304, eps=0.001, momentum=0.1, affine=True, track_running_stats=True)\n",
      "        )\n",
      "        (1): InvertedResidual(\n",
      "          (conv_pw): Conv2d(304, 1824, kernel_size=(1, 1), stride=(1, 1), bias=False)\n",
      "          (bn1): BatchNorm2d(1824, eps=0.001, momentum=0.1, affine=True, track_running_stats=True)\n",
      "          (act1): SiLU(inplace=True)\n",
      "          (conv_dw): Conv2d(1824, 1824, kernel_size=(3, 3), stride=(1, 1), padding=(1, 1), groups=1824, bias=False)\n",
      "          (bn2): BatchNorm2d(1824, eps=0.001, momentum=0.1, affine=True, track_running_stats=True)\n",
      "          (act2): SiLU(inplace=True)\n",
      "          (se): SqueezeExcite(\n",
      "            (conv_reduce): Conv2d(1824, 76, kernel_size=(1, 1), stride=(1, 1))\n",
      "            (act1): SiLU(inplace=True)\n",
      "            (conv_expand): Conv2d(76, 1824, kernel_size=(1, 1), stride=(1, 1))\n",
      "            (gate): Sigmoid()\n",
      "          )\n",
      "          (conv_pwl): Conv2d(1824, 304, kernel_size=(1, 1), stride=(1, 1), bias=False)\n",
      "          (bn3): BatchNorm2d(304, eps=0.001, momentum=0.1, affine=True, track_running_stats=True)\n",
      "        )\n",
      "        (2): InvertedResidual(\n",
      "          (conv_pw): Conv2d(304, 1824, kernel_size=(1, 1), stride=(1, 1), bias=False)\n",
      "          (bn1): BatchNorm2d(1824, eps=0.001, momentum=0.1, affine=True, track_running_stats=True)\n",
      "          (act1): SiLU(inplace=True)\n",
      "          (conv_dw): Conv2d(1824, 1824, kernel_size=(3, 3), stride=(1, 1), padding=(1, 1), groups=1824, bias=False)\n",
      "          (bn2): BatchNorm2d(1824, eps=0.001, momentum=0.1, affine=True, track_running_stats=True)\n",
      "          (act2): SiLU(inplace=True)\n",
      "          (se): SqueezeExcite(\n",
      "            (conv_reduce): Conv2d(1824, 76, kernel_size=(1, 1), stride=(1, 1))\n",
      "            (act1): SiLU(inplace=True)\n",
      "            (conv_expand): Conv2d(76, 1824, kernel_size=(1, 1), stride=(1, 1))\n",
      "            (gate): Sigmoid()\n",
      "          )\n",
      "          (conv_pwl): Conv2d(1824, 304, kernel_size=(1, 1), stride=(1, 1), bias=False)\n",
      "          (bn3): BatchNorm2d(304, eps=0.001, momentum=0.1, affine=True, track_running_stats=True)\n",
      "        )\n",
      "        (3): InvertedResidual(\n",
      "          (conv_pw): Conv2d(304, 1824, kernel_size=(1, 1), stride=(1, 1), bias=False)\n",
      "          (bn1): BatchNorm2d(1824, eps=0.001, momentum=0.1, affine=True, track_running_stats=True)\n",
      "          (act1): SiLU(inplace=True)\n",
      "          (conv_dw): Conv2d(1824, 1824, kernel_size=(3, 3), stride=(1, 1), padding=(1, 1), groups=1824, bias=False)\n",
      "          (bn2): BatchNorm2d(1824, eps=0.001, momentum=0.1, affine=True, track_running_stats=True)\n",
      "          (act2): SiLU(inplace=True)\n",
      "          (se): SqueezeExcite(\n",
      "            (conv_reduce): Conv2d(1824, 76, kernel_size=(1, 1), stride=(1, 1))\n",
      "            (act1): SiLU(inplace=True)\n",
      "            (conv_expand): Conv2d(76, 1824, kernel_size=(1, 1), stride=(1, 1))\n",
      "            (gate): Sigmoid()\n",
      "          )\n",
      "          (conv_pwl): Conv2d(1824, 304, kernel_size=(1, 1), stride=(1, 1), bias=False)\n",
      "          (bn3): BatchNorm2d(304, eps=0.001, momentum=0.1, affine=True, track_running_stats=True)\n",
      "        )\n",
      "        (4): InvertedResidual(\n",
      "          (conv_pw): Conv2d(304, 1824, kernel_size=(1, 1), stride=(1, 1), bias=False)\n",
      "          (bn1): BatchNorm2d(1824, eps=0.001, momentum=0.1, affine=True, track_running_stats=True)\n",
      "          (act1): SiLU(inplace=True)\n",
      "          (conv_dw): Conv2d(1824, 1824, kernel_size=(3, 3), stride=(1, 1), padding=(1, 1), groups=1824, bias=False)\n",
      "          (bn2): BatchNorm2d(1824, eps=0.001, momentum=0.1, affine=True, track_running_stats=True)\n",
      "          (act2): SiLU(inplace=True)\n",
      "          (se): SqueezeExcite(\n",
      "            (conv_reduce): Conv2d(1824, 76, kernel_size=(1, 1), stride=(1, 1))\n",
      "            (act1): SiLU(inplace=True)\n",
      "            (conv_expand): Conv2d(76, 1824, kernel_size=(1, 1), stride=(1, 1))\n",
      "            (gate): Sigmoid()\n",
      "          )\n",
      "          (conv_pwl): Conv2d(1824, 304, kernel_size=(1, 1), stride=(1, 1), bias=False)\n",
      "          (bn3): BatchNorm2d(304, eps=0.001, momentum=0.1, affine=True, track_running_stats=True)\n",
      "        )\n",
      "        (5): InvertedResidual(\n",
      "          (conv_pw): Conv2d(304, 1824, kernel_size=(1, 1), stride=(1, 1), bias=False)\n",
      "          (bn1): BatchNorm2d(1824, eps=0.001, momentum=0.1, affine=True, track_running_stats=True)\n",
      "          (act1): SiLU(inplace=True)\n",
      "          (conv_dw): Conv2d(1824, 1824, kernel_size=(3, 3), stride=(1, 1), padding=(1, 1), groups=1824, bias=False)\n",
      "          (bn2): BatchNorm2d(1824, eps=0.001, momentum=0.1, affine=True, track_running_stats=True)\n",
      "          (act2): SiLU(inplace=True)\n",
      "          (se): SqueezeExcite(\n",
      "            (conv_reduce): Conv2d(1824, 76, kernel_size=(1, 1), stride=(1, 1))\n",
      "            (act1): SiLU(inplace=True)\n",
      "            (conv_expand): Conv2d(76, 1824, kernel_size=(1, 1), stride=(1, 1))\n",
      "            (gate): Sigmoid()\n",
      "          )\n",
      "          (conv_pwl): Conv2d(1824, 304, kernel_size=(1, 1), stride=(1, 1), bias=False)\n",
      "          (bn3): BatchNorm2d(304, eps=0.001, momentum=0.1, affine=True, track_running_stats=True)\n",
      "        )\n",
      "        (6): InvertedResidual(\n",
      "          (conv_pw): Conv2d(304, 1824, kernel_size=(1, 1), stride=(1, 1), bias=False)\n",
      "          (bn1): BatchNorm2d(1824, eps=0.001, momentum=0.1, affine=True, track_running_stats=True)\n",
      "          (act1): SiLU(inplace=True)\n",
      "          (conv_dw): Conv2d(1824, 1824, kernel_size=(3, 3), stride=(1, 1), padding=(1, 1), groups=1824, bias=False)\n",
      "          (bn2): BatchNorm2d(1824, eps=0.001, momentum=0.1, affine=True, track_running_stats=True)\n",
      "          (act2): SiLU(inplace=True)\n",
      "          (se): SqueezeExcite(\n",
      "            (conv_reduce): Conv2d(1824, 76, kernel_size=(1, 1), stride=(1, 1))\n",
      "            (act1): SiLU(inplace=True)\n",
      "            (conv_expand): Conv2d(76, 1824, kernel_size=(1, 1), stride=(1, 1))\n",
      "            (gate): Sigmoid()\n",
      "          )\n",
      "          (conv_pwl): Conv2d(1824, 304, kernel_size=(1, 1), stride=(1, 1), bias=False)\n",
      "          (bn3): BatchNorm2d(304, eps=0.001, momentum=0.1, affine=True, track_running_stats=True)\n",
      "        )\n",
      "        (7): InvertedResidual(\n",
      "          (conv_pw): Conv2d(304, 1824, kernel_size=(1, 1), stride=(1, 1), bias=False)\n",
      "          (bn1): BatchNorm2d(1824, eps=0.001, momentum=0.1, affine=True, track_running_stats=True)\n",
      "          (act1): SiLU(inplace=True)\n",
      "          (conv_dw): Conv2d(1824, 1824, kernel_size=(3, 3), stride=(1, 1), padding=(1, 1), groups=1824, bias=False)\n",
      "          (bn2): BatchNorm2d(1824, eps=0.001, momentum=0.1, affine=True, track_running_stats=True)\n",
      "          (act2): SiLU(inplace=True)\n",
      "          (se): SqueezeExcite(\n",
      "            (conv_reduce): Conv2d(1824, 76, kernel_size=(1, 1), stride=(1, 1))\n",
      "            (act1): SiLU(inplace=True)\n",
      "            (conv_expand): Conv2d(76, 1824, kernel_size=(1, 1), stride=(1, 1))\n",
      "            (gate): Sigmoid()\n",
      "          )\n",
      "          (conv_pwl): Conv2d(1824, 304, kernel_size=(1, 1), stride=(1, 1), bias=False)\n",
      "          (bn3): BatchNorm2d(304, eps=0.001, momentum=0.1, affine=True, track_running_stats=True)\n",
      "        )\n",
      "        (8): InvertedResidual(\n",
      "          (conv_pw): Conv2d(304, 1824, kernel_size=(1, 1), stride=(1, 1), bias=False)\n",
      "          (bn1): BatchNorm2d(1824, eps=0.001, momentum=0.1, affine=True, track_running_stats=True)\n",
      "          (act1): SiLU(inplace=True)\n",
      "          (conv_dw): Conv2d(1824, 1824, kernel_size=(3, 3), stride=(1, 1), padding=(1, 1), groups=1824, bias=False)\n",
      "          (bn2): BatchNorm2d(1824, eps=0.001, momentum=0.1, affine=True, track_running_stats=True)\n",
      "          (act2): SiLU(inplace=True)\n",
      "          (se): SqueezeExcite(\n",
      "            (conv_reduce): Conv2d(1824, 76, kernel_size=(1, 1), stride=(1, 1))\n",
      "            (act1): SiLU(inplace=True)\n",
      "            (conv_expand): Conv2d(76, 1824, kernel_size=(1, 1), stride=(1, 1))\n",
      "            (gate): Sigmoid()\n",
      "          )\n",
      "          (conv_pwl): Conv2d(1824, 304, kernel_size=(1, 1), stride=(1, 1), bias=False)\n",
      "          (bn3): BatchNorm2d(304, eps=0.001, momentum=0.1, affine=True, track_running_stats=True)\n",
      "        )\n",
      "        (9): InvertedResidual(\n",
      "          (conv_pw): Conv2d(304, 1824, kernel_size=(1, 1), stride=(1, 1), bias=False)\n",
      "          (bn1): BatchNorm2d(1824, eps=0.001, momentum=0.1, affine=True, track_running_stats=True)\n",
      "          (act1): SiLU(inplace=True)\n",
      "          (conv_dw): Conv2d(1824, 1824, kernel_size=(3, 3), stride=(1, 1), padding=(1, 1), groups=1824, bias=False)\n",
      "          (bn2): BatchNorm2d(1824, eps=0.001, momentum=0.1, affine=True, track_running_stats=True)\n",
      "          (act2): SiLU(inplace=True)\n",
      "          (se): SqueezeExcite(\n",
      "            (conv_reduce): Conv2d(1824, 76, kernel_size=(1, 1), stride=(1, 1))\n",
      "            (act1): SiLU(inplace=True)\n",
      "            (conv_expand): Conv2d(76, 1824, kernel_size=(1, 1), stride=(1, 1))\n",
      "            (gate): Sigmoid()\n",
      "          )\n",
      "          (conv_pwl): Conv2d(1824, 304, kernel_size=(1, 1), stride=(1, 1), bias=False)\n",
      "          (bn3): BatchNorm2d(304, eps=0.001, momentum=0.1, affine=True, track_running_stats=True)\n",
      "        )\n",
      "        (10): InvertedResidual(\n",
      "          (conv_pw): Conv2d(304, 1824, kernel_size=(1, 1), stride=(1, 1), bias=False)\n",
      "          (bn1): BatchNorm2d(1824, eps=0.001, momentum=0.1, affine=True, track_running_stats=True)\n",
      "          (act1): SiLU(inplace=True)\n",
      "          (conv_dw): Conv2d(1824, 1824, kernel_size=(3, 3), stride=(1, 1), padding=(1, 1), groups=1824, bias=False)\n",
      "          (bn2): BatchNorm2d(1824, eps=0.001, momentum=0.1, affine=True, track_running_stats=True)\n",
      "          (act2): SiLU(inplace=True)\n",
      "          (se): SqueezeExcite(\n",
      "            (conv_reduce): Conv2d(1824, 76, kernel_size=(1, 1), stride=(1, 1))\n",
      "            (act1): SiLU(inplace=True)\n",
      "            (conv_expand): Conv2d(76, 1824, kernel_size=(1, 1), stride=(1, 1))\n",
      "            (gate): Sigmoid()\n",
      "          )\n",
      "          (conv_pwl): Conv2d(1824, 304, kernel_size=(1, 1), stride=(1, 1), bias=False)\n",
      "          (bn3): BatchNorm2d(304, eps=0.001, momentum=0.1, affine=True, track_running_stats=True)\n",
      "        )\n",
      "        (11): InvertedResidual(\n",
      "          (conv_pw): Conv2d(304, 1824, kernel_size=(1, 1), stride=(1, 1), bias=False)\n",
      "          (bn1): BatchNorm2d(1824, eps=0.001, momentum=0.1, affine=True, track_running_stats=True)\n",
      "          (act1): SiLU(inplace=True)\n",
      "          (conv_dw): Conv2d(1824, 1824, kernel_size=(3, 3), stride=(1, 1), padding=(1, 1), groups=1824, bias=False)\n",
      "          (bn2): BatchNorm2d(1824, eps=0.001, momentum=0.1, affine=True, track_running_stats=True)\n",
      "          (act2): SiLU(inplace=True)\n",
      "          (se): SqueezeExcite(\n",
      "            (conv_reduce): Conv2d(1824, 76, kernel_size=(1, 1), stride=(1, 1))\n",
      "            (act1): SiLU(inplace=True)\n",
      "            (conv_expand): Conv2d(76, 1824, kernel_size=(1, 1), stride=(1, 1))\n",
      "            (gate): Sigmoid()\n",
      "          )\n",
      "          (conv_pwl): Conv2d(1824, 304, kernel_size=(1, 1), stride=(1, 1), bias=False)\n",
      "          (bn3): BatchNorm2d(304, eps=0.001, momentum=0.1, affine=True, track_running_stats=True)\n",
      "        )\n",
      "        (12): InvertedResidual(\n",
      "          (conv_pw): Conv2d(304, 1824, kernel_size=(1, 1), stride=(1, 1), bias=False)\n",
      "          (bn1): BatchNorm2d(1824, eps=0.001, momentum=0.1, affine=True, track_running_stats=True)\n",
      "          (act1): SiLU(inplace=True)\n",
      "          (conv_dw): Conv2d(1824, 1824, kernel_size=(3, 3), stride=(1, 1), padding=(1, 1), groups=1824, bias=False)\n",
      "          (bn2): BatchNorm2d(1824, eps=0.001, momentum=0.1, affine=True, track_running_stats=True)\n",
      "          (act2): SiLU(inplace=True)\n",
      "          (se): SqueezeExcite(\n",
      "            (conv_reduce): Conv2d(1824, 76, kernel_size=(1, 1), stride=(1, 1))\n",
      "            (act1): SiLU(inplace=True)\n",
      "            (conv_expand): Conv2d(76, 1824, kernel_size=(1, 1), stride=(1, 1))\n",
      "            (gate): Sigmoid()\n",
      "          )\n",
      "          (conv_pwl): Conv2d(1824, 304, kernel_size=(1, 1), stride=(1, 1), bias=False)\n",
      "          (bn3): BatchNorm2d(304, eps=0.001, momentum=0.1, affine=True, track_running_stats=True)\n",
      "        )\n",
      "        (13): InvertedResidual(\n",
      "          (conv_pw): Conv2d(304, 1824, kernel_size=(1, 1), stride=(1, 1), bias=False)\n",
      "          (bn1): BatchNorm2d(1824, eps=0.001, momentum=0.1, affine=True, track_running_stats=True)\n",
      "          (act1): SiLU(inplace=True)\n",
      "          (conv_dw): Conv2d(1824, 1824, kernel_size=(3, 3), stride=(1, 1), padding=(1, 1), groups=1824, bias=False)\n",
      "          (bn2): BatchNorm2d(1824, eps=0.001, momentum=0.1, affine=True, track_running_stats=True)\n",
      "          (act2): SiLU(inplace=True)\n",
      "          (se): SqueezeExcite(\n",
      "            (conv_reduce): Conv2d(1824, 76, kernel_size=(1, 1), stride=(1, 1))\n",
      "            (act1): SiLU(inplace=True)\n",
      "            (conv_expand): Conv2d(76, 1824, kernel_size=(1, 1), stride=(1, 1))\n",
      "            (gate): Sigmoid()\n",
      "          )\n",
      "          (conv_pwl): Conv2d(1824, 304, kernel_size=(1, 1), stride=(1, 1), bias=False)\n",
      "          (bn3): BatchNorm2d(304, eps=0.001, momentum=0.1, affine=True, track_running_stats=True)\n",
      "        )\n",
      "        (14): InvertedResidual(\n",
      "          (conv_pw): Conv2d(304, 1824, kernel_size=(1, 1), stride=(1, 1), bias=False)\n",
      "          (bn1): BatchNorm2d(1824, eps=0.001, momentum=0.1, affine=True, track_running_stats=True)\n",
      "          (act1): SiLU(inplace=True)\n",
      "          (conv_dw): Conv2d(1824, 1824, kernel_size=(3, 3), stride=(1, 1), padding=(1, 1), groups=1824, bias=False)\n",
      "          (bn2): BatchNorm2d(1824, eps=0.001, momentum=0.1, affine=True, track_running_stats=True)\n",
      "          (act2): SiLU(inplace=True)\n",
      "          (se): SqueezeExcite(\n",
      "            (conv_reduce): Conv2d(1824, 76, kernel_size=(1, 1), stride=(1, 1))\n",
      "            (act1): SiLU(inplace=True)\n",
      "            (conv_expand): Conv2d(76, 1824, kernel_size=(1, 1), stride=(1, 1))\n",
      "            (gate): Sigmoid()\n",
      "          )\n",
      "          (conv_pwl): Conv2d(1824, 304, kernel_size=(1, 1), stride=(1, 1), bias=False)\n",
      "          (bn3): BatchNorm2d(304, eps=0.001, momentum=0.1, affine=True, track_running_stats=True)\n",
      "        )\n",
      "        (15): InvertedResidual(\n",
      "          (conv_pw): Conv2d(304, 1824, kernel_size=(1, 1), stride=(1, 1), bias=False)\n",
      "          (bn1): BatchNorm2d(1824, eps=0.001, momentum=0.1, affine=True, track_running_stats=True)\n",
      "          (act1): SiLU(inplace=True)\n",
      "          (conv_dw): Conv2d(1824, 1824, kernel_size=(3, 3), stride=(1, 1), padding=(1, 1), groups=1824, bias=False)\n",
      "          (bn2): BatchNorm2d(1824, eps=0.001, momentum=0.1, affine=True, track_running_stats=True)\n",
      "          (act2): SiLU(inplace=True)\n",
      "          (se): SqueezeExcite(\n",
      "            (conv_reduce): Conv2d(1824, 76, kernel_size=(1, 1), stride=(1, 1))\n",
      "            (act1): SiLU(inplace=True)\n",
      "            (conv_expand): Conv2d(76, 1824, kernel_size=(1, 1), stride=(1, 1))\n",
      "            (gate): Sigmoid()\n",
      "          )\n",
      "          (conv_pwl): Conv2d(1824, 304, kernel_size=(1, 1), stride=(1, 1), bias=False)\n",
      "          (bn3): BatchNorm2d(304, eps=0.001, momentum=0.1, affine=True, track_running_stats=True)\n",
      "        )\n",
      "        (16): InvertedResidual(\n",
      "          (conv_pw): Conv2d(304, 1824, kernel_size=(1, 1), stride=(1, 1), bias=False)\n",
      "          (bn1): BatchNorm2d(1824, eps=0.001, momentum=0.1, affine=True, track_running_stats=True)\n",
      "          (act1): SiLU(inplace=True)\n",
      "          (conv_dw): Conv2d(1824, 1824, kernel_size=(3, 3), stride=(1, 1), padding=(1, 1), groups=1824, bias=False)\n",
      "          (bn2): BatchNorm2d(1824, eps=0.001, momentum=0.1, affine=True, track_running_stats=True)\n",
      "          (act2): SiLU(inplace=True)\n",
      "          (se): SqueezeExcite(\n",
      "            (conv_reduce): Conv2d(1824, 76, kernel_size=(1, 1), stride=(1, 1))\n",
      "            (act1): SiLU(inplace=True)\n",
      "            (conv_expand): Conv2d(76, 1824, kernel_size=(1, 1), stride=(1, 1))\n",
      "            (gate): Sigmoid()\n",
      "          )\n",
      "          (conv_pwl): Conv2d(1824, 304, kernel_size=(1, 1), stride=(1, 1), bias=False)\n",
      "          (bn3): BatchNorm2d(304, eps=0.001, momentum=0.1, affine=True, track_running_stats=True)\n",
      "        )\n",
      "        (17): InvertedResidual(\n",
      "          (conv_pw): Conv2d(304, 1824, kernel_size=(1, 1), stride=(1, 1), bias=False)\n",
      "          (bn1): BatchNorm2d(1824, eps=0.001, momentum=0.1, affine=True, track_running_stats=True)\n",
      "          (act1): SiLU(inplace=True)\n",
      "          (conv_dw): Conv2d(1824, 1824, kernel_size=(3, 3), stride=(1, 1), padding=(1, 1), groups=1824, bias=False)\n",
      "          (bn2): BatchNorm2d(1824, eps=0.001, momentum=0.1, affine=True, track_running_stats=True)\n",
      "          (act2): SiLU(inplace=True)\n",
      "          (se): SqueezeExcite(\n",
      "            (conv_reduce): Conv2d(1824, 76, kernel_size=(1, 1), stride=(1, 1))\n",
      "            (act1): SiLU(inplace=True)\n",
      "            (conv_expand): Conv2d(76, 1824, kernel_size=(1, 1), stride=(1, 1))\n",
      "            (gate): Sigmoid()\n",
      "          )\n",
      "          (conv_pwl): Conv2d(1824, 304, kernel_size=(1, 1), stride=(1, 1), bias=False)\n",
      "          (bn3): BatchNorm2d(304, eps=0.001, momentum=0.1, affine=True, track_running_stats=True)\n",
      "        )\n",
      "      )\n",
      "      (6): Sequential(\n",
      "        (0): InvertedResidual(\n",
      "          (conv_pw): Conv2d(304, 1824, kernel_size=(1, 1), stride=(1, 1), bias=False)\n",
      "          (bn1): BatchNorm2d(1824, eps=0.001, momentum=0.1, affine=True, track_running_stats=True)\n",
      "          (act1): SiLU(inplace=True)\n",
      "          (conv_dw): Conv2d(1824, 1824, kernel_size=(3, 3), stride=(1, 1), padding=(1, 1), groups=1824, bias=False)\n",
      "          (bn2): BatchNorm2d(1824, eps=0.001, momentum=0.1, affine=True, track_running_stats=True)\n",
      "          (act2): SiLU(inplace=True)\n",
      "          (se): SqueezeExcite(\n",
      "            (conv_reduce): Conv2d(1824, 76, kernel_size=(1, 1), stride=(1, 1))\n",
      "            (act1): SiLU(inplace=True)\n",
      "            (conv_expand): Conv2d(76, 1824, kernel_size=(1, 1), stride=(1, 1))\n",
      "            (gate): Sigmoid()\n",
      "          )\n",
      "          (conv_pwl): Conv2d(1824, 512, kernel_size=(1, 1), stride=(1, 1), bias=False)\n",
      "          (bn3): BatchNorm2d(512, eps=0.001, momentum=0.1, affine=True, track_running_stats=True)\n",
      "        )\n",
      "        (1): InvertedResidual(\n",
      "          (conv_pw): Conv2d(512, 3072, kernel_size=(1, 1), stride=(1, 1), bias=False)\n",
      "          (bn1): BatchNorm2d(3072, eps=0.001, momentum=0.1, affine=True, track_running_stats=True)\n",
      "          (act1): SiLU(inplace=True)\n",
      "          (conv_dw): Conv2d(3072, 3072, kernel_size=(3, 3), stride=(1, 1), padding=(1, 1), groups=3072, bias=False)\n",
      "          (bn2): BatchNorm2d(3072, eps=0.001, momentum=0.1, affine=True, track_running_stats=True)\n",
      "          (act2): SiLU(inplace=True)\n",
      "          (se): SqueezeExcite(\n",
      "            (conv_reduce): Conv2d(3072, 128, kernel_size=(1, 1), stride=(1, 1))\n",
      "            (act1): SiLU(inplace=True)\n",
      "            (conv_expand): Conv2d(128, 3072, kernel_size=(1, 1), stride=(1, 1))\n",
      "            (gate): Sigmoid()\n",
      "          )\n",
      "          (conv_pwl): Conv2d(3072, 512, kernel_size=(1, 1), stride=(1, 1), bias=False)\n",
      "          (bn3): BatchNorm2d(512, eps=0.001, momentum=0.1, affine=True, track_running_stats=True)\n",
      "        )\n",
      "        (2): InvertedResidual(\n",
      "          (conv_pw): Conv2d(512, 3072, kernel_size=(1, 1), stride=(1, 1), bias=False)\n",
      "          (bn1): BatchNorm2d(3072, eps=0.001, momentum=0.1, affine=True, track_running_stats=True)\n",
      "          (act1): SiLU(inplace=True)\n",
      "          (conv_dw): Conv2d(3072, 3072, kernel_size=(3, 3), stride=(1, 1), padding=(1, 1), groups=3072, bias=False)\n",
      "          (bn2): BatchNorm2d(3072, eps=0.001, momentum=0.1, affine=True, track_running_stats=True)\n",
      "          (act2): SiLU(inplace=True)\n",
      "          (se): SqueezeExcite(\n",
      "            (conv_reduce): Conv2d(3072, 128, kernel_size=(1, 1), stride=(1, 1))\n",
      "            (act1): SiLU(inplace=True)\n",
      "            (conv_expand): Conv2d(128, 3072, kernel_size=(1, 1), stride=(1, 1))\n",
      "            (gate): Sigmoid()\n",
      "          )\n",
      "          (conv_pwl): Conv2d(3072, 512, kernel_size=(1, 1), stride=(1, 1), bias=False)\n",
      "          (bn3): BatchNorm2d(512, eps=0.001, momentum=0.1, affine=True, track_running_stats=True)\n",
      "        )\n",
      "        (3): InvertedResidual(\n",
      "          (conv_pw): Conv2d(512, 3072, kernel_size=(1, 1), stride=(1, 1), bias=False)\n",
      "          (bn1): BatchNorm2d(3072, eps=0.001, momentum=0.1, affine=True, track_running_stats=True)\n",
      "          (act1): SiLU(inplace=True)\n",
      "          (conv_dw): Conv2d(3072, 3072, kernel_size=(3, 3), stride=(1, 1), padding=(1, 1), groups=3072, bias=False)\n",
      "          (bn2): BatchNorm2d(3072, eps=0.001, momentum=0.1, affine=True, track_running_stats=True)\n",
      "          (act2): SiLU(inplace=True)\n",
      "          (se): SqueezeExcite(\n",
      "            (conv_reduce): Conv2d(3072, 128, kernel_size=(1, 1), stride=(1, 1))\n",
      "            (act1): SiLU(inplace=True)\n",
      "            (conv_expand): Conv2d(128, 3072, kernel_size=(1, 1), stride=(1, 1))\n",
      "            (gate): Sigmoid()\n",
      "          )\n",
      "          (conv_pwl): Conv2d(3072, 512, kernel_size=(1, 1), stride=(1, 1), bias=False)\n",
      "          (bn3): BatchNorm2d(512, eps=0.001, momentum=0.1, affine=True, track_running_stats=True)\n",
      "        )\n",
      "        (4): InvertedResidual(\n",
      "          (conv_pw): Conv2d(512, 3072, kernel_size=(1, 1), stride=(1, 1), bias=False)\n",
      "          (bn1): BatchNorm2d(3072, eps=0.001, momentum=0.1, affine=True, track_running_stats=True)\n",
      "          (act1): SiLU(inplace=True)\n",
      "          (conv_dw): Conv2d(3072, 3072, kernel_size=(3, 3), stride=(1, 1), padding=(1, 1), groups=3072, bias=False)\n",
      "          (bn2): BatchNorm2d(3072, eps=0.001, momentum=0.1, affine=True, track_running_stats=True)\n",
      "          (act2): SiLU(inplace=True)\n",
      "          (se): SqueezeExcite(\n",
      "            (conv_reduce): Conv2d(3072, 128, kernel_size=(1, 1), stride=(1, 1))\n",
      "            (act1): SiLU(inplace=True)\n",
      "            (conv_expand): Conv2d(128, 3072, kernel_size=(1, 1), stride=(1, 1))\n",
      "            (gate): Sigmoid()\n",
      "          )\n",
      "          (conv_pwl): Conv2d(3072, 512, kernel_size=(1, 1), stride=(1, 1), bias=False)\n",
      "          (bn3): BatchNorm2d(512, eps=0.001, momentum=0.1, affine=True, track_running_stats=True)\n",
      "        )\n",
      "      )\n",
      "    )\n",
      "    (conv_head): Conv2d(512, 1280, kernel_size=(1, 1), stride=(1, 1), bias=False)\n",
      "    (bn2): BatchNorm2d(1280, eps=0.001, momentum=0.1, affine=True, track_running_stats=True)\n",
      "    (act2): SiLU(inplace=True)\n",
      "    (global_pool): SelectAdaptivePool2d (pool_type=avg, flatten=Flatten(start_dim=1, end_dim=-1))\n",
      "    (classifier): Linear(in_features=1280, out_features=5, bias=True)\n",
      "  )\n",
      ")\n",
      "tensor([[-0.1694, -0.0386,  0.2039,  0.1343, -0.0260],\n",
      "        [ 0.2352,  0.2854, -0.2241, -0.4495, -0.5138],\n",
      "        [-0.2657,  0.1166, -0.0319, -0.4120,  0.4978],\n",
      "        [ 0.5221,  0.2376,  0.1100, -0.5618, -0.1825]],\n",
      "       grad_fn=<AddmmBackward>)\n"
     ]
    }
   ],
   "source": [
    "if config.model_name != \"\":\n",
    "    model = BaseModel(config.model_name)\n",
    "    print(model)\n",
    "\n",
    "    train_ds = BaseDataset(train, transform=get_transforms(data=\"train\"))\n",
    "    train_loader = DataLoader(train_ds, batch_size=4, shuffle=True, num_workers=4, drop_last=True)\n",
    "\n",
    "    for image, label in train_loader:\n",
    "        output = model(image)\n",
    "        print(output)\n",
    "        break"
   ]
  },
  {
   "cell_type": "markdown",
   "metadata": {
    "id": "YCa8k53cRIi_"
   },
   "source": [
    "# Optimizer"
   ]
  },
  {
   "cell_type": "code",
   "execution_count": null,
   "metadata": {
    "id": "FbkDI8DdRJ5w"
   },
   "outputs": [],
   "source": []
  },
  {
   "cell_type": "markdown",
   "metadata": {
    "id": "rFMHkJIMRLBi"
   },
   "source": [
    "# Loss"
   ]
  },
  {
   "cell_type": "code",
   "execution_count": null,
   "metadata": {
    "id": "f6jKOTHURLxM"
   },
   "outputs": [],
   "source": []
  },
  {
   "cell_type": "markdown",
   "metadata": {
    "id": "dWbNT_NeRMoB"
   },
   "source": [
    "# Scoring"
   ]
  },
  {
   "cell_type": "code",
   "execution_count": 27,
   "metadata": {
    "id": "S4EF_M0NROIn"
   },
   "outputs": [],
   "source": [
    "def get_score(y_true, y_pred):\n",
    "    return accuracy_score(y_true, y_pred)"
   ]
  },
  {
   "cell_type": "code",
   "execution_count": 28,
   "metadata": {
    "id": "0fQUwt7adOSk"
   },
   "outputs": [],
   "source": [
    "def get_result(result_df, fold=config.n_fold):\n",
    "    preds = result_df[\"preds\"].values\n",
    "    labels = result_df[\"label\"].values\n",
    "    score = get_score(labels, preds)\n",
    "    LOGGER.info(f\"Score: {score:<.5f}\")\n",
    "    if fold == config.n_fold:\n",
    "        wandb.log({\"CV\": score})\n",
    "    else:\n",
    "        wandb.log({f\"CV_fold{fold}\": score})"
   ]
  },
  {
   "cell_type": "markdown",
   "metadata": {
    "id": "d8Ga4Bb8RQsF"
   },
   "source": [
    "# Helper functions"
   ]
  },
  {
   "cell_type": "code",
   "execution_count": 29,
   "metadata": {
    "id": "rRPW8QwiRbPC"
   },
   "outputs": [],
   "source": [
    "class AverageMeter(object):\n",
    "    \"\"\"Computes and stores the average and current value\"\"\"\n",
    "    def __init__(self):\n",
    "        self.reset()\n",
    "\n",
    "    def reset(self):\n",
    "        self.val = 0\n",
    "        self.avg = 0\n",
    "        self.sum = 0\n",
    "        self.count = 0\n",
    "\n",
    "    def update(self, val, n=1):\n",
    "        self.val = val\n",
    "        self.sum += val * n\n",
    "        self.count += n\n",
    "        self.avg = self.sum / self.count\n",
    "\n",
    "\n",
    "def asMinutes(s):\n",
    "    m = math.floor(s / 60)\n",
    "    s -= m * 60\n",
    "    return \"%dm %ds\" % (m, s)\n",
    "\n",
    "\n",
    "def timeSince(since, percent):\n",
    "    now = time.time()\n",
    "    s = now - since\n",
    "    es = s / (percent)\n",
    "    rs = es - s\n",
    "    return \"%s (remain %s)\" % (asMinutes(s), asMinutes(rs))"
   ]
  },
  {
   "cell_type": "code",
   "execution_count": 30,
   "metadata": {
    "id": "l9Kcw2bdeZR4"
   },
   "outputs": [],
   "source": [
    "def compute_grad_norm(parameters, norm_type=2.0):\n",
    "    \"\"\"Refer to torch.nn.utils.clip_grad_norm_\"\"\"\n",
    "    if isinstance(parameters, torch.Tensor):\n",
    "        parameters = [parameters]\n",
    "    parameters = [p for p in parameters if p.grad is not None]\n",
    "    norm_type = float(norm_type)\n",
    "    total_norm = 0\n",
    "    for p in parameters:\n",
    "        param_norm = p.grad.data.norm(norm_type)\n",
    "        total_norm += param_norm.item() ** norm_type\n",
    "    total_norm = total_norm ** (1. / norm_type)\n",
    "    return total_norm"
   ]
  },
  {
   "cell_type": "code",
   "execution_count": 31,
   "metadata": {
    "id": "sWtO4py7Rcud"
   },
   "outputs": [],
   "source": [
    "def train_fn(train_loader, model, criterion, optimizer, scheduler, scaler, epoch, device):\n",
    "    losses = AverageMeter()\n",
    "\n",
    "    # switch to train mode\n",
    "    model.train()\n",
    "    start = time.time()\n",
    "    optimizer.zero_grad()\n",
    "\n",
    "    for step, (images, labels) in enumerate(train_loader):\n",
    "        images = images.to(device)\n",
    "        labels = labels.to(device)\n",
    "        batch_size = labels.size(0)\n",
    "\n",
    "        with amp.autocast(enabled=Config.amp):\n",
    "            y_preds = model(images)\n",
    "            loss = criterion(y_preds, labels)\n",
    "            losses.update(loss.item(), batch_size)\n",
    "            loss = loss / config.gradient_accumulation_steps\n",
    "            \n",
    "        scaler.scale(loss).backward()\n",
    "\n",
    "        if (step + 1) % config.gradient_accumulation_steps == 0:\n",
    "            scaler.unscale_(optimizer)\n",
    "            grad_norm = torch.nn.utils.clip_grad_norm_(model.parameters(), config.max_grad_norm)\n",
    "            scaler.step(optimizer)\n",
    "            scaler.update()\n",
    "\n",
    "            scheduler.step()\n",
    "            optimizer.zero_grad()\n",
    "        else:\n",
    "            grad_norm = compute_grad_norm(model.parameters())\n",
    "\n",
    "        end = time.time()\n",
    "        if step % Config.print_freq == 0 or step == (len(train_loader) - 1):\n",
    "            print(\n",
    "                f\"Epoch: [{epoch + 1}][{step}/{len(train_loader)}] \"\n",
    "                f\"Elapsed {timeSince(start, float(step + 1) / len(train_loader)):s} \"\n",
    "                f\"Loss: {losses.avg:.4f} \"\n",
    "                f\"Grad: {grad_norm:.4f} \"\n",
    "                f\"LR: {scheduler.get_lr()[0]:.6f}  \"\n",
    "            )\n",
    "\n",
    "    return losses.avg"
   ]
  },
  {
   "cell_type": "code",
   "execution_count": 32,
   "metadata": {
    "id": "wlPZYJYgXRZ4"
   },
   "outputs": [],
   "source": [
    "def valid_fn(valid_loader, model, criterion, device):\n",
    "    losses = AverageMeter()\n",
    "\n",
    "    # switch to evaluation mode\n",
    "    model.eval()\n",
    "    preds = []\n",
    "    start = time.time()\n",
    "\n",
    "    for step, (images, labels) in enumerate(valid_loader):\n",
    "        images = images.to(device)\n",
    "        labels = labels.to(device)\n",
    "        batch_size = labels.size(0)\n",
    "\n",
    "        with torch.no_grad():\n",
    "            y_preds = model(images)\n",
    "\n",
    "        loss = criterion(y_preds, labels)\n",
    "        losses.update(loss.item(), batch_size)\n",
    "\n",
    "        preds.append(y_preds.softmax(1).to(\"cpu\").numpy())\n",
    "        # preds.append(y_preds.to(\"cpu\").numpy())\n",
    "\n",
    "        end = time.time()\n",
    "        if step % Config.print_freq == 0 or step == (len(valid_loader) - 1):\n",
    "            print(\n",
    "                f\"EVAL: [{step}/{len(valid_loader)}] \"\n",
    "                f\"Elapsed {timeSince(start, float(step + 1) / len(valid_loader)):s} \"\n",
    "                f\"Loss: {losses.avg:.4f} \"\n",
    "            )\n",
    "\n",
    "    predictions = np.concatenate(preds)\n",
    "    return losses.avg, predictions"
   ]
  },
  {
   "cell_type": "markdown",
   "metadata": {
    "id": "4ybZNlV6YEp8"
   },
   "source": [
    "# Postprocess"
   ]
  },
  {
   "cell_type": "code",
   "execution_count": null,
   "metadata": {
    "id": "_JIDycP9YFvO"
   },
   "outputs": [],
   "source": []
  },
  {
   "cell_type": "markdown",
   "metadata": {
    "id": "-mwWqWJdX232"
   },
   "source": [
    "# 🏃‍♂️ Train loop"
   ]
  },
  {
   "cell_type": "code",
   "execution_count": 33,
   "metadata": {
    "id": "ei3alnONX4RY"
   },
   "outputs": [],
   "source": [
    "def train_loop(df, fold):\n",
    "    LOGGER.info(f\"========== fold: {fold} training ==========\")\n",
    "\n",
    "    # ====================================================\n",
    "    # Data Loader\n",
    "    # ====================================================\n",
    "    trn_idx = df[df[\"fold\"] != fold].index\n",
    "    val_idx = df[df[\"fold\"] == fold].index\n",
    "\n",
    "    train_folds = df.loc[trn_idx].reset_index(drop=True)\n",
    "    valid_folds = df.loc[val_idx].reset_index(drop=True)\n",
    "\n",
    "    train_dataset = BaseDataset(train_folds, transform=get_transforms(data=\"train\"))\n",
    "    valid_dataset = BaseDataset(valid_folds, transform=get_transforms(data=\"valid\"))\n",
    "\n",
    "    train_loader = DataLoader(\n",
    "        train_dataset,\n",
    "        batch_size=config.batch_size,\n",
    "        shuffle=True,\n",
    "        num_workers=4,\n",
    "        pin_memory=True,\n",
    "        drop_last=True,\n",
    "    )\n",
    "    valid_loader = DataLoader(\n",
    "        valid_dataset,\n",
    "        batch_size=config.batch_size,\n",
    "        shuffle=False,\n",
    "        num_workers=4,\n",
    "        pin_memory=True,\n",
    "        drop_last=False,\n",
    "    )\n",
    "\n",
    "    # ====================================================\n",
    "    # Optimizer\n",
    "    # ====================================================\n",
    "    def get_optimizer(model):\n",
    "        if config.optimizer == \"Adam\":\n",
    "            optimizer = Adam(model.parameters(), lr=config.lr, weight_decay=config.weight_decay)\n",
    "        elif config.optimizer == \"AdamW\":\n",
    "            optimizer = T.AdamW(model.parameters(), lr=config.lr, weight_decay=config.weight_decay)\n",
    "        return optimizer\n",
    "\n",
    "    # ====================================================\n",
    "    # Scheduler\n",
    "    # ====================================================\n",
    "    def get_scheduler(optimizer, train_folds):\n",
    "        num_data = len(train_folds)\n",
    "        num_steps = num_data // (config.batch_size * config.gradient_accumulation_steps) * config.epochs\n",
    "\n",
    "        if config.scheduler == \"CosineAnnealingWarmRestarts\":\n",
    "            scheduler = CosineAnnealingWarmRestarts(optimizer, T_0=num_steps, T_mult=1, eta_min=config.min_lr, last_epoch=-1)\n",
    "        elif config.scheduler == \"CosineAnnealingLR\":\n",
    "            scheduler = CosineAnnealingLR(optimizer, T_max=num_steps, eta_min=config.min_lr, last_epoch=-1)\n",
    "        elif config.scheduler == \"CosineAnnealingWarmupRestarts\":\n",
    "            scheduler = CosineAnnealingWarmupRestarts(\n",
    "                optimizer, first_cycle_steps=num_steps, max_lr=config.lr, min_lr=config.min_lr, warmup_steps=(num_steps // 10)\n",
    "            )\n",
    "        return scheduler\n",
    "\n",
    "    # ====================================================\n",
    "    # Model\n",
    "    # ====================================================\n",
    "    model = BaseModel(config.model_name)\n",
    "    if Config.multi_gpu:\n",
    "        model = nn.DataParallel(model)\n",
    "    model.to(device)\n",
    "\n",
    "    optimizer = get_optimizer(model)\n",
    "    scaler = amp.GradScaler(enabled=Config.amp)\n",
    "    scheduler = get_scheduler(optimizer, train_folds)\n",
    "\n",
    "    # ====================================================\n",
    "    # Criterion\n",
    "    # ====================================================\n",
    "    def get_criterion():\n",
    "        if config.criterion == \"CrossEntropyLoss\":\n",
    "            criterion = nn.CrossEntropyLoss()\n",
    "        elif config.criterion == \"BCEWithLogitsLoss\":\n",
    "            criterion = nn.BCEWithLogitsLoss()\n",
    "        elif config.criterion == \"MSELoss\":\n",
    "            criterion = nn.MSELoss()\n",
    "        return criterion\n",
    "\n",
    "    criterion = get_criterion()\n",
    "\n",
    "    # ====================================================\n",
    "    # Loop\n",
    "    # ====================================================\n",
    "    best_score = -1\n",
    "    best_loss = np.inf\n",
    "    best_preds = None\n",
    "\n",
    "    for epoch in range(config.epochs):\n",
    "        start_time = time.time()\n",
    "\n",
    "        # train\n",
    "        avg_loss = train_fn(train_loader, model, criterion, optimizer, scheduler, scaler, epoch, device)\n",
    "\n",
    "        # eval\n",
    "        avg_val_loss, preds = valid_fn(valid_loader, model, criterion, device)\n",
    "        valid_labels = valid_folds[\"label\"].values\n",
    "\n",
    "        # if config.criterion == \"BCEWithLogitsLoss\":\n",
    "        #     preds = 1 / (1 + np.exp(-preds))\n",
    "\n",
    "        # scoring\n",
    "        score = get_score(valid_labels, preds.argmax(1))\n",
    "        # score = get_score(valid_labels, preds)\n",
    "\n",
    "        elapsed = time.time() - start_time\n",
    "        LOGGER.info(f\"Epoch {epoch+1} - avg_train_loss: {avg_loss:.4f}  avg_val_loss: {avg_val_loss:.4f}  time: {elapsed:.0f}s\")\n",
    "        LOGGER.info(f\"Epoch {epoch+1} - Score: {score}\")\n",
    "\n",
    "        wandb.log({\n",
    "            \"epoch\": epoch + 1,\n",
    "            f\"loss/train_fold{fold}\": avg_loss,\n",
    "            f\"loss/valid_fold{fold}\": avg_val_loss,\n",
    "            f\"score/fold{fold}\": score,\n",
    "        })\n",
    "\n",
    "        if avg_val_loss < best_loss:\n",
    "            best_score = score\n",
    "            best_loss = avg_val_loss\n",
    "            best_preds = preds\n",
    "            LOGGER.info(f\"Epoch {epoch+1} - Save Best Model. score: {best_score:.4f}, loss: {best_loss:.4f}\")\n",
    "\n",
    "            torch.save(\n",
    "                {\"model\": model.state_dict(), \"preds\": preds}, MODEL_DIR + f\"{config.model_name.replace('/', '-')}_fold{fold}_best.pth\"\n",
    "            )\n",
    "            # use artifacts instead\n",
    "            # wandb.save(MODEL_DIR + f\"{config.model_name.replace('/', '-')}_fold{fold}_best.pth\")\n",
    "\n",
    "    valid_folds[[str(c) for c in range(config.n_class)]] = best_preds\n",
    "    valid_folds[\"preds\"] = best_preds.argmax(1)\n",
    "    # valid_folds[\"preds\"] = best_preds\n",
    "\n",
    "    return valid_folds, best_score, best_loss"
   ]
  },
  {
   "cell_type": "markdown",
   "metadata": {
    "id": "EVj6cfuLc4VP"
   },
   "source": [
    "# Main function"
   ]
  },
  {
   "cell_type": "code",
   "execution_count": 34,
   "metadata": {
    "id": "PpdJfNgUc5N3"
   },
   "outputs": [],
   "source": [
    "def main():\n",
    "    # ====================================================\n",
    "    # Training\n",
    "    # ====================================================\n",
    "    if Config.train:\n",
    "        oof_df = pd.DataFrame()\n",
    "        oof_result = []\n",
    "        for fold in range(config.n_fold):\n",
    "            seed_torch(seed + fold)\n",
    "\n",
    "            _oof_df, score, loss = train_loop(train, fold)\n",
    "            oof_df = pd.concat([oof_df, _oof_df])\n",
    "            oof_result.append([fold, score, loss])\n",
    "            \n",
    "            LOGGER.info(f\"========== fold: {fold} result ==========\")\n",
    "            get_result(_oof_df, fold)\n",
    "            \n",
    "        # CV result\n",
    "        LOGGER.info(f\"========== CV ==========\")\n",
    "        get_result(oof_df)\n",
    "\n",
    "        loss = statistics.mean([d[2] for d in oof_result])\n",
    "        wandb.log({\"loss\": loss})\n",
    "\n",
    "        table = wandb.Table(data=oof_result, columns = [\"fold\", \"score\", \"loss\"])\n",
    "        run.log({\"Fold Result\": table})\n",
    "        \n",
    "        # save result\n",
    "        oof_df.to_csv(OUTPUT_DIR + \"oof_df.csv\", index=False)\n",
    "        wandb.save(OUTPUT_DIR + \"oof_df.csv\")\n",
    "\n",
    "        artifact = wandb.Artifact(config.model_name, type='model')\n",
    "        artifact.add_dir(MODEL_DIR)\n",
    "        run.log_artifact(artifact)\n"
   ]
  },
  {
   "cell_type": "markdown",
   "metadata": {
    "id": "7-J0CDXjkUaS"
   },
   "source": [
    "# 🚀 Run"
   ]
  },
  {
   "cell_type": "code",
   "execution_count": 35,
   "metadata": {
    "colab": {
     "base_uri": "https://localhost:8080/",
     "height": 1000
    },
    "id": "oeDBzpKHdIie",
    "outputId": "1d9d194b-eb20-4a24-9af0-29ab14beb789"
   },
   "outputs": [
    {
     "name": "stderr",
     "output_type": "stream",
     "text": [
      "========== fold: 0 training ==========\n"
     ]
    },
    {
     "name": "stdout",
     "output_type": "stream",
     "text": [
      "Epoch: [1][0/178] Elapsed 0m 28s (remain 83m 7s) Loss: 1.8158 Grad: 8.9072 LR: 0.000100  \n",
      "Epoch: [1][100/178] Elapsed 1m 29s (remain 1m 8s) Loss: 0.6726 Grad: 2.2657 LR: 0.000099  \n",
      "Epoch: [1][177/178] Elapsed 2m 15s (remain 0m 0s) Loss: 0.5888 Grad: 1.5988 LR: 0.000098  \n",
      "EVAL: [0/45] Elapsed 0m 2s (remain 1m 43s) Loss: 0.2913 \n",
      "EVAL: [44/45] Elapsed 0m 17s (remain 0m 0s) Loss: 0.3273 \n"
     ]
    },
    {
     "name": "stderr",
     "output_type": "stream",
     "text": [
      "Epoch 1 - avg_train_loss: 0.5888  avg_val_loss: 0.3273  time: 154s\n",
      "Epoch 1 - Score: 0.8855140186915887\n",
      "Epoch 1 - Save Best Model. score: 0.8855, loss: 0.3273\n"
     ]
    },
    {
     "name": "stdout",
     "output_type": "stream",
     "text": [
      "Epoch: [2][0/178] Elapsed 0m 3s (remain 8m 59s) Loss: 0.4614 Grad: 1.5683 LR: 0.000098  \n",
      "Epoch: [2][100/178] Elapsed 1m 1s (remain 0m 47s) Loss: 0.4243 Grad: 1.7628 LR: 0.000094  \n",
      "Epoch: [2][177/178] Elapsed 1m 46s (remain 0m 0s) Loss: 0.4182 Grad: 1.7123 LR: 0.000091  \n",
      "EVAL: [0/45] Elapsed 0m 2s (remain 1m 47s) Loss: 0.2871 \n",
      "EVAL: [44/45] Elapsed 0m 17s (remain 0m 0s) Loss: 0.3211 \n"
     ]
    },
    {
     "name": "stderr",
     "output_type": "stream",
     "text": [
      "Epoch 2 - avg_train_loss: 0.4182  avg_val_loss: 0.3211  time: 125s\n",
      "Epoch 2 - Score: 0.8869158878504673\n",
      "Epoch 2 - Save Best Model. score: 0.8869, loss: 0.3211\n"
     ]
    },
    {
     "name": "stdout",
     "output_type": "stream",
     "text": [
      "Epoch: [3][0/178] Elapsed 0m 3s (remain 8m 52s) Loss: 0.3580 Grad: 1.2867 LR: 0.000091  \n",
      "Epoch: [3][100/178] Elapsed 1m 3s (remain 0m 48s) Loss: 0.3645 Grad: 1.6724 LR: 0.000085  \n",
      "Epoch: [3][177/178] Elapsed 1m 49s (remain 0m 0s) Loss: 0.3774 Grad: 1.2094 LR: 0.000080  \n",
      "EVAL: [0/45] Elapsed 0m 2s (remain 1m 56s) Loss: 0.3076 \n",
      "EVAL: [44/45] Elapsed 0m 17s (remain 0m 0s) Loss: 0.3087 \n"
     ]
    },
    {
     "name": "stderr",
     "output_type": "stream",
     "text": [
      "Epoch 3 - avg_train_loss: 0.3774  avg_val_loss: 0.3087  time: 128s\n",
      "Epoch 3 - Score: 0.8939252336448598\n",
      "Epoch 3 - Save Best Model. score: 0.8939, loss: 0.3087\n"
     ]
    },
    {
     "name": "stdout",
     "output_type": "stream",
     "text": [
      "Epoch: [4][0/178] Elapsed 0m 2s (remain 8m 50s) Loss: 0.3901 Grad: 1.4957 LR: 0.000080  \n",
      "Epoch: [4][100/178] Elapsed 1m 4s (remain 0m 49s) Loss: 0.3578 Grad: 1.2213 LR: 0.000073  \n",
      "Epoch: [4][177/178] Elapsed 1m 50s (remain 0m 0s) Loss: 0.3519 Grad: 1.1177 LR: 0.000067  \n",
      "EVAL: [0/45] Elapsed 0m 2s (remain 2m 0s) Loss: 0.2712 \n",
      "EVAL: [44/45] Elapsed 0m 17s (remain 0m 0s) Loss: 0.3008 \n"
     ]
    },
    {
     "name": "stderr",
     "output_type": "stream",
     "text": [
      "Epoch 4 - avg_train_loss: 0.3519  avg_val_loss: 0.3008  time: 129s\n",
      "Epoch 4 - Score: 0.8995327102803738\n",
      "Epoch 4 - Save Best Model. score: 0.8995, loss: 0.3008\n"
     ]
    },
    {
     "name": "stdout",
     "output_type": "stream",
     "text": [
      "Epoch: [5][0/178] Elapsed 0m 3s (remain 9m 38s) Loss: 0.2991 Grad: 1.3114 LR: 0.000067  \n",
      "Epoch: [5][100/178] Elapsed 1m 4s (remain 0m 48s) Loss: 0.3273 Grad: 1.4614 LR: 0.000059  \n",
      "Epoch: [5][177/178] Elapsed 1m 50s (remain 0m 0s) Loss: 0.3233 Grad: 1.2149 LR: 0.000053  \n",
      "EVAL: [0/45] Elapsed 0m 2s (remain 1m 51s) Loss: 0.2793 \n",
      "EVAL: [44/45] Elapsed 0m 17s (remain 0m 0s) Loss: 0.3043 \n"
     ]
    },
    {
     "name": "stderr",
     "output_type": "stream",
     "text": [
      "Epoch 5 - avg_train_loss: 0.3233  avg_val_loss: 0.3043  time: 129s\n",
      "Epoch 5 - Score: 0.8995327102803738\n"
     ]
    },
    {
     "name": "stdout",
     "output_type": "stream",
     "text": [
      "Epoch: [6][0/178] Elapsed 0m 3s (remain 9m 1s) Loss: 0.3197 Grad: 1.5732 LR: 0.000052  \n",
      "Epoch: [6][100/178] Elapsed 1m 3s (remain 0m 48s) Loss: 0.3035 Grad: 1.8298 LR: 0.000044  \n",
      "Epoch: [6][177/178] Elapsed 1m 49s (remain 0m 0s) Loss: 0.3045 Grad: 1.4759 LR: 0.000038  \n",
      "EVAL: [0/45] Elapsed 0m 2s (remain 1m 55s) Loss: 0.2859 \n",
      "EVAL: [44/45] Elapsed 0m 17s (remain 0m 0s) Loss: 0.3062 \n"
     ]
    },
    {
     "name": "stderr",
     "output_type": "stream",
     "text": [
      "Epoch 6 - avg_train_loss: 0.3045  avg_val_loss: 0.3062  time: 128s\n",
      "Epoch 6 - Score: 0.8981308411214953\n"
     ]
    },
    {
     "name": "stdout",
     "output_type": "stream",
     "text": [
      "Epoch: [7][0/178] Elapsed 0m 3s (remain 9m 6s) Loss: 0.3781 Grad: 1.8927 LR: 0.000038  \n",
      "Epoch: [7][100/178] Elapsed 1m 4s (remain 0m 48s) Loss: 0.2782 Grad: 1.3519 LR: 0.000030  \n",
      "Epoch: [7][177/178] Elapsed 1m 50s (remain 0m 0s) Loss: 0.2830 Grad: 2.1580 LR: 0.000025  \n",
      "EVAL: [0/45] Elapsed 0m 2s (remain 1m 58s) Loss: 0.3110 \n",
      "EVAL: [44/45] Elapsed 0m 17s (remain 0m 0s) Loss: 0.3076 \n"
     ]
    },
    {
     "name": "stderr",
     "output_type": "stream",
     "text": [
      "Epoch 7 - avg_train_loss: 0.2830  avg_val_loss: 0.3076  time: 128s\n",
      "Epoch 7 - Score: 0.8985981308411215\n"
     ]
    },
    {
     "name": "stdout",
     "output_type": "stream",
     "text": [
      "Epoch: [8][0/178] Elapsed 0m 3s (remain 9m 4s) Loss: 0.2593 Grad: 1.4187 LR: 0.000025  \n",
      "Epoch: [8][100/178] Elapsed 1m 3s (remain 0m 48s) Loss: 0.2715 Grad: 1.8344 LR: 0.000018  \n",
      "Epoch: [8][177/178] Elapsed 1m 50s (remain 0m 0s) Loss: 0.2711 Grad: 1.6014 LR: 0.000014  \n",
      "EVAL: [0/45] Elapsed 0m 2s (remain 1m 48s) Loss: 0.3066 \n",
      "EVAL: [44/45] Elapsed 0m 17s (remain 0m 0s) Loss: 0.3106 \n"
     ]
    },
    {
     "name": "stderr",
     "output_type": "stream",
     "text": [
      "Epoch 8 - avg_train_loss: 0.2711  avg_val_loss: 0.3106  time: 129s\n",
      "Epoch 8 - Score: 0.8978971962616823\n"
     ]
    },
    {
     "name": "stdout",
     "output_type": "stream",
     "text": [
      "Epoch: [9][0/178] Elapsed 0m 3s (remain 8m 56s) Loss: 0.2427 Grad: 1.4051 LR: 0.000014  \n",
      "Epoch: [9][100/178] Elapsed 1m 5s (remain 0m 49s) Loss: 0.2624 Grad: 1.3409 LR: 0.000010  \n",
      "Epoch: [9][177/178] Elapsed 1m 52s (remain 0m 0s) Loss: 0.2575 Grad: 1.0478 LR: 0.000007  \n",
      "EVAL: [0/45] Elapsed 0m 2s (remain 2m 2s) Loss: 0.2927 \n",
      "EVAL: [44/45] Elapsed 0m 17s (remain 0m 0s) Loss: 0.3201 \n"
     ]
    },
    {
     "name": "stderr",
     "output_type": "stream",
     "text": [
      "Epoch 9 - avg_train_loss: 0.2575  avg_val_loss: 0.3201  time: 131s\n",
      "Epoch 9 - Score: 0.8957943925233645\n"
     ]
    },
    {
     "name": "stdout",
     "output_type": "stream",
     "text": [
      "Epoch: [10][0/178] Elapsed 0m 3s (remain 9m 8s) Loss: 0.2197 Grad: 1.5147 LR: 0.000007  \n",
      "Epoch: [10][100/178] Elapsed 1m 3s (remain 0m 48s) Loss: 0.2446 Grad: 1.7686 LR: 0.000005  \n",
      "Epoch: [10][177/178] Elapsed 1m 49s (remain 0m 0s) Loss: 0.2487 Grad: 1.9717 LR: 0.000100  \n",
      "EVAL: [0/45] Elapsed 0m 2s (remain 1m 55s) Loss: 0.3044 \n",
      "EVAL: [44/45] Elapsed 0m 17s (remain 0m 0s) Loss: 0.3183 \n"
     ]
    },
    {
     "name": "stderr",
     "output_type": "stream",
     "text": [
      "Epoch 10 - avg_train_loss: 0.2487  avg_val_loss: 0.3183  time: 128s\n",
      "Epoch 10 - Score: 0.8964953271028038\n",
      "========== fold: 0 result ==========\n",
      "Score: 0.89953\n",
      "========== fold: 1 training ==========\n"
     ]
    },
    {
     "name": "stdout",
     "output_type": "stream",
     "text": [
      "Epoch: [1][0/178] Elapsed 0m 3s (remain 9m 26s) Loss: 1.8596 Grad: 10.4130 LR: 0.000100  \n",
      "Epoch: [1][100/178] Elapsed 1m 4s (remain 0m 49s) Loss: 0.6757 Grad: 1.9097 LR: 0.000099  \n",
      "Epoch: [1][177/178] Elapsed 1m 50s (remain 0m 0s) Loss: 0.5857 Grad: 1.7350 LR: 0.000098  \n",
      "EVAL: [0/45] Elapsed 0m 2s (remain 1m 59s) Loss: 0.3965 \n",
      "EVAL: [44/45] Elapsed 0m 17s (remain 0m 0s) Loss: 0.3508 \n"
     ]
    },
    {
     "name": "stderr",
     "output_type": "stream",
     "text": [
      "Epoch 1 - avg_train_loss: 0.5857  avg_val_loss: 0.3508  time: 129s\n",
      "Epoch 1 - Score: 0.8810747663551401\n",
      "Epoch 1 - Save Best Model. score: 0.8811, loss: 0.3508\n"
     ]
    },
    {
     "name": "stdout",
     "output_type": "stream",
     "text": [
      "Epoch: [2][0/178] Elapsed 0m 3s (remain 8m 57s) Loss: 0.3107 Grad: 1.2940 LR: 0.000098  \n",
      "Epoch: [2][100/178] Elapsed 1m 3s (remain 0m 48s) Loss: 0.4080 Grad: 1.4723 LR: 0.000094  \n",
      "Epoch: [2][177/178] Elapsed 1m 49s (remain 0m 0s) Loss: 0.4143 Grad: 1.7615 LR: 0.000091  \n",
      "EVAL: [0/45] Elapsed 0m 2s (remain 1m 58s) Loss: 0.3069 \n",
      "EVAL: [44/45] Elapsed 0m 18s (remain 0m 0s) Loss: 0.3217 \n"
     ]
    },
    {
     "name": "stderr",
     "output_type": "stream",
     "text": [
      "Epoch 2 - avg_train_loss: 0.4143  avg_val_loss: 0.3217  time: 128s\n",
      "Epoch 2 - Score: 0.891588785046729\n",
      "Epoch 2 - Save Best Model. score: 0.8916, loss: 0.3217\n"
     ]
    },
    {
     "name": "stdout",
     "output_type": "stream",
     "text": [
      "Epoch: [3][0/178] Elapsed 0m 3s (remain 9m 14s) Loss: 0.4382 Grad: 1.6333 LR: 0.000091  \n",
      "Epoch: [3][100/178] Elapsed 1m 5s (remain 0m 49s) Loss: 0.3729 Grad: 1.6111 LR: 0.000085  \n",
      "Epoch: [3][177/178] Elapsed 1m 52s (remain 0m 0s) Loss: 0.3744 Grad: 1.2604 LR: 0.000080  \n",
      "EVAL: [0/45] Elapsed 0m 2s (remain 2m 1s) Loss: 0.3062 \n",
      "EVAL: [44/45] Elapsed 0m 17s (remain 0m 0s) Loss: 0.3144 \n"
     ]
    },
    {
     "name": "stderr",
     "output_type": "stream",
     "text": [
      "Epoch 3 - avg_train_loss: 0.3744  avg_val_loss: 0.3144  time: 130s\n",
      "Epoch 3 - Score: 0.8920560747663552\n",
      "Epoch 3 - Save Best Model. score: 0.8921, loss: 0.3144\n"
     ]
    },
    {
     "name": "stdout",
     "output_type": "stream",
     "text": [
      "Epoch: [4][0/178] Elapsed 0m 3s (remain 9m 42s) Loss: 0.5105 Grad: 1.6799 LR: 0.000080  \n",
      "Epoch: [4][100/178] Elapsed 1m 6s (remain 0m 50s) Loss: 0.3550 Grad: 1.1276 LR: 0.000073  \n",
      "Epoch: [4][177/178] Elapsed 1m 54s (remain 0m 0s) Loss: 0.3500 Grad: 1.4203 LR: 0.000067  \n",
      "EVAL: [0/45] Elapsed 0m 2s (remain 1m 56s) Loss: 0.2939 \n",
      "EVAL: [44/45] Elapsed 0m 17s (remain 0m 0s) Loss: 0.3126 \n"
     ]
    },
    {
     "name": "stderr",
     "output_type": "stream",
     "text": [
      "Epoch 4 - avg_train_loss: 0.3500  avg_val_loss: 0.3126  time: 133s\n",
      "Epoch 4 - Score: 0.8960280373831776\n",
      "Epoch 4 - Save Best Model. score: 0.8960, loss: 0.3126\n"
     ]
    },
    {
     "name": "stdout",
     "output_type": "stream",
     "text": [
      "Epoch: [5][0/178] Elapsed 0m 2s (remain 8m 41s) Loss: 0.3488 Grad: 1.7659 LR: 0.000067  \n",
      "Epoch: [5][100/178] Elapsed 1m 3s (remain 0m 48s) Loss: 0.3230 Grad: 1.4040 LR: 0.000059  \n",
      "Epoch: [5][177/178] Elapsed 1m 49s (remain 0m 0s) Loss: 0.3254 Grad: 1.7415 LR: 0.000053  \n",
      "EVAL: [0/45] Elapsed 0m 2s (remain 1m 55s) Loss: 0.2622 \n",
      "EVAL: [44/45] Elapsed 0m 17s (remain 0m 0s) Loss: 0.3120 \n"
     ]
    },
    {
     "name": "stderr",
     "output_type": "stream",
     "text": [
      "Epoch 5 - avg_train_loss: 0.3254  avg_val_loss: 0.3120  time: 128s\n",
      "Epoch 5 - Score: 0.8936915887850467\n",
      "Epoch 5 - Save Best Model. score: 0.8937, loss: 0.3120\n"
     ]
    },
    {
     "name": "stdout",
     "output_type": "stream",
     "text": [
      "Epoch: [6][0/178] Elapsed 0m 3s (remain 9m 12s) Loss: 0.3871 Grad: 1.7298 LR: 0.000052  \n",
      "Epoch: [6][100/178] Elapsed 1m 4s (remain 0m 48s) Loss: 0.3079 Grad: 1.6271 LR: 0.000044  \n",
      "Epoch: [6][177/178] Elapsed 1m 51s (remain 0m 0s) Loss: 0.3043 Grad: 1.6136 LR: 0.000038  \n",
      "EVAL: [0/45] Elapsed 0m 2s (remain 1m 53s) Loss: 0.2739 \n",
      "EVAL: [44/45] Elapsed 0m 18s (remain 0m 0s) Loss: 0.3146 \n"
     ]
    },
    {
     "name": "stderr",
     "output_type": "stream",
     "text": [
      "Epoch 6 - avg_train_loss: 0.3043  avg_val_loss: 0.3146  time: 130s\n",
      "Epoch 6 - Score: 0.8950934579439253\n"
     ]
    },
    {
     "name": "stdout",
     "output_type": "stream",
     "text": [
      "Epoch: [7][0/178] Elapsed 0m 3s (remain 9m 0s) Loss: 0.2383 Grad: 1.2479 LR: 0.000038  \n",
      "Epoch: [7][100/178] Elapsed 1m 3s (remain 0m 48s) Loss: 0.2844 Grad: 1.6915 LR: 0.000030  \n",
      "Epoch: [7][177/178] Elapsed 1m 49s (remain 0m 0s) Loss: 0.2841 Grad: 2.0026 LR: 0.000025  \n",
      "EVAL: [0/45] Elapsed 0m 2s (remain 1m 51s) Loss: 0.2747 \n",
      "EVAL: [44/45] Elapsed 0m 17s (remain 0m 0s) Loss: 0.3173 \n"
     ]
    },
    {
     "name": "stderr",
     "output_type": "stream",
     "text": [
      "Epoch 7 - avg_train_loss: 0.2841  avg_val_loss: 0.3173  time: 128s\n",
      "Epoch 7 - Score: 0.8929906542056075\n"
     ]
    },
    {
     "name": "stdout",
     "output_type": "stream",
     "text": [
      "Epoch: [8][0/178] Elapsed 0m 3s (remain 9m 19s) Loss: 0.2578 Grad: 1.4069 LR: 0.000025  \n",
      "Epoch: [8][100/178] Elapsed 1m 7s (remain 0m 51s) Loss: 0.2666 Grad: 1.3897 LR: 0.000018  \n",
      "Epoch: [8][177/178] Elapsed 1m 55s (remain 0m 0s) Loss: 0.2686 Grad: 1.8023 LR: 0.000014  \n",
      "EVAL: [0/45] Elapsed 0m 2s (remain 1m 55s) Loss: 0.2678 \n",
      "EVAL: [44/45] Elapsed 0m 18s (remain 0m 0s) Loss: 0.3197 \n"
     ]
    },
    {
     "name": "stderr",
     "output_type": "stream",
     "text": [
      "Epoch 8 - avg_train_loss: 0.2686  avg_val_loss: 0.3197  time: 135s\n",
      "Epoch 8 - Score: 0.8936915887850467\n"
     ]
    },
    {
     "name": "stdout",
     "output_type": "stream",
     "text": [
      "Epoch: [9][0/178] Elapsed 0m 3s (remain 9m 44s) Loss: 0.2174 Grad: 1.3892 LR: 0.000014  \n",
      "Epoch: [9][100/178] Elapsed 1m 2s (remain 0m 47s) Loss: 0.2575 Grad: 1.3478 LR: 0.000010  \n",
      "Epoch: [9][177/178] Elapsed 1m 47s (remain 0m 0s) Loss: 0.2563 Grad: 1.6422 LR: 0.000007  \n",
      "EVAL: [0/45] Elapsed 0m 2s (remain 1m 50s) Loss: 0.2578 \n",
      "EVAL: [44/45] Elapsed 0m 17s (remain 0m 0s) Loss: 0.3214 \n"
     ]
    },
    {
     "name": "stderr",
     "output_type": "stream",
     "text": [
      "Epoch 9 - avg_train_loss: 0.2563  avg_val_loss: 0.3214  time: 126s\n",
      "Epoch 9 - Score: 0.8957943925233645\n"
     ]
    },
    {
     "name": "stdout",
     "output_type": "stream",
     "text": [
      "Epoch: [10][0/178] Elapsed 0m 3s (remain 9m 24s) Loss: 0.2625 Grad: 1.5978 LR: 0.000007  \n",
      "Epoch: [10][100/178] Elapsed 1m 3s (remain 0m 48s) Loss: 0.2518 Grad: 1.5409 LR: 0.000005  \n",
      "Epoch: [10][177/178] Elapsed 1m 49s (remain 0m 0s) Loss: 0.2477 Grad: 1.6812 LR: 0.000100  \n",
      "EVAL: [0/45] Elapsed 0m 2s (remain 2m 4s) Loss: 0.2465 \n",
      "EVAL: [44/45] Elapsed 0m 18s (remain 0m 0s) Loss: 0.3204 \n"
     ]
    },
    {
     "name": "stderr",
     "output_type": "stream",
     "text": [
      "Epoch 10 - avg_train_loss: 0.2477  avg_val_loss: 0.3204  time: 129s\n",
      "Epoch 10 - Score: 0.8946261682242991\n",
      "========== fold: 1 result ==========\n",
      "Score: 0.89369\n",
      "========== fold: 2 training ==========\n"
     ]
    },
    {
     "name": "stdout",
     "output_type": "stream",
     "text": [
      "Epoch: [1][0/178] Elapsed 0m 3s (remain 9m 54s) Loss: 1.5238 Grad: 6.3059 LR: 0.000100  \n",
      "Epoch: [1][100/178] Elapsed 1m 2s (remain 0m 47s) Loss: 0.6258 Grad: 1.6523 LR: 0.000099  \n",
      "Epoch: [1][177/178] Elapsed 1m 47s (remain 0m 0s) Loss: 0.5563 Grad: 1.7562 LR: 0.000098  \n",
      "EVAL: [0/45] Elapsed 0m 2s (remain 2m 1s) Loss: 0.4785 \n",
      "EVAL: [44/45] Elapsed 0m 17s (remain 0m 0s) Loss: 0.3898 \n"
     ]
    },
    {
     "name": "stderr",
     "output_type": "stream",
     "text": [
      "Epoch 1 - avg_train_loss: 0.5563  avg_val_loss: 0.3898  time: 126s\n",
      "Epoch 1 - Score: 0.8616499182051881\n",
      "Epoch 1 - Save Best Model. score: 0.8616, loss: 0.3898\n"
     ]
    },
    {
     "name": "stdout",
     "output_type": "stream",
     "text": [
      "Epoch: [2][0/178] Elapsed 0m 3s (remain 9m 45s) Loss: 0.3632 Grad: 1.4053 LR: 0.000098  \n",
      "Epoch: [2][100/178] Elapsed 1m 2s (remain 0m 47s) Loss: 0.4187 Grad: 1.7414 LR: 0.000094  \n",
      "Epoch: [2][177/178] Elapsed 1m 47s (remain 0m 0s) Loss: 0.4105 Grad: 1.6811 LR: 0.000091  \n",
      "EVAL: [0/45] Elapsed 0m 2s (remain 2m 11s) Loss: 0.5908 \n",
      "EVAL: [44/45] Elapsed 0m 18s (remain 0m 0s) Loss: 0.3648 \n"
     ]
    },
    {
     "name": "stderr",
     "output_type": "stream",
     "text": [
      "Epoch 2 - avg_train_loss: 0.4105  avg_val_loss: 0.3648  time: 127s\n",
      "Epoch 2 - Score: 0.8712315961673288\n",
      "Epoch 2 - Save Best Model. score: 0.8712, loss: 0.3648\n"
     ]
    },
    {
     "name": "stdout",
     "output_type": "stream",
     "text": [
      "Epoch: [3][0/178] Elapsed 0m 3s (remain 9m 59s) Loss: 0.3554 Grad: 1.7141 LR: 0.000091  \n",
      "Epoch: [3][100/178] Elapsed 1m 2s (remain 0m 47s) Loss: 0.3801 Grad: 2.0598 LR: 0.000085  \n",
      "Epoch: [3][177/178] Elapsed 1m 48s (remain 0m 0s) Loss: 0.3706 Grad: 1.7109 LR: 0.000080  \n",
      "EVAL: [0/45] Elapsed 0m 2s (remain 2m 9s) Loss: 0.5483 \n",
      "EVAL: [44/45] Elapsed 0m 17s (remain 0m 0s) Loss: 0.3550 \n"
     ]
    },
    {
     "name": "stderr",
     "output_type": "stream",
     "text": [
      "Epoch 3 - avg_train_loss: 0.3706  avg_val_loss: 0.3550  time: 127s\n",
      "Epoch 3 - Score: 0.8847861649918205\n",
      "Epoch 3 - Save Best Model. score: 0.8848, loss: 0.3550\n"
     ]
    },
    {
     "name": "stdout",
     "output_type": "stream",
     "text": [
      "Epoch: [4][0/178] Elapsed 0m 3s (remain 9m 41s) Loss: 0.3361 Grad: 1.3866 LR: 0.000080  \n",
      "Epoch: [4][100/178] Elapsed 1m 2s (remain 0m 47s) Loss: 0.3310 Grad: 1.2393 LR: 0.000073  \n",
      "Epoch: [4][177/178] Elapsed 1m 45s (remain 0m 0s) Loss: 0.3455 Grad: 1.3539 LR: 0.000067  \n",
      "EVAL: [0/45] Elapsed 0m 2s (remain 2m 6s) Loss: 0.5293 \n",
      "EVAL: [44/45] Elapsed 0m 17s (remain 0m 0s) Loss: 0.3645 \n"
     ]
    },
    {
     "name": "stderr",
     "output_type": "stream",
     "text": [
      "Epoch 4 - avg_train_loss: 0.3455  avg_val_loss: 0.3645  time: 124s\n",
      "Epoch 4 - Score: 0.8789436784295396\n"
     ]
    },
    {
     "name": "stdout",
     "output_type": "stream",
     "text": [
      "Epoch: [5][0/178] Elapsed 0m 3s (remain 10m 7s) Loss: 0.3499 Grad: 1.5115 LR: 0.000067  \n",
      "Epoch: [5][100/178] Elapsed 1m 5s (remain 0m 50s) Loss: 0.3203 Grad: 1.3785 LR: 0.000059  \n",
      "Epoch: [5][177/178] Elapsed 1m 54s (remain 0m 0s) Loss: 0.3185 Grad: 1.5782 LR: 0.000053  \n",
      "EVAL: [0/45] Elapsed 0m 2s (remain 1m 56s) Loss: 0.5747 \n",
      "EVAL: [44/45] Elapsed 0m 17s (remain 0m 0s) Loss: 0.3455 \n"
     ]
    },
    {
     "name": "stderr",
     "output_type": "stream",
     "text": [
      "Epoch 5 - avg_train_loss: 0.3185  avg_val_loss: 0.3455  time: 132s\n",
      "Epoch 5 - Score: 0.8854872633792942\n",
      "Epoch 5 - Save Best Model. score: 0.8855, loss: 0.3455\n"
     ]
    },
    {
     "name": "stdout",
     "output_type": "stream",
     "text": [
      "Epoch: [6][0/178] Elapsed 0m 3s (remain 9m 40s) Loss: 0.2227 Grad: 1.2933 LR: 0.000052  \n",
      "Epoch: [6][100/178] Elapsed 1m 4s (remain 0m 49s) Loss: 0.3001 Grad: 1.0839 LR: 0.000044  \n",
      "Epoch: [6][177/178] Elapsed 1m 49s (remain 0m 0s) Loss: 0.3001 Grad: 1.5930 LR: 0.000038  \n",
      "EVAL: [0/45] Elapsed 0m 3s (remain 2m 12s) Loss: 0.6001 \n",
      "EVAL: [44/45] Elapsed 0m 18s (remain 0m 0s) Loss: 0.3525 \n"
     ]
    },
    {
     "name": "stderr",
     "output_type": "stream",
     "text": [
      "Epoch 6 - avg_train_loss: 0.3001  avg_val_loss: 0.3525  time: 129s\n",
      "Epoch 6 - Score: 0.8875905585417153\n"
     ]
    },
    {
     "name": "stdout",
     "output_type": "stream",
     "text": [
      "Epoch: [7][0/178] Elapsed 0m 3s (remain 9m 39s) Loss: 0.3489 Grad: 1.6649 LR: 0.000038  \n",
      "Epoch: [7][100/178] Elapsed 1m 6s (remain 0m 50s) Loss: 0.2702 Grad: 1.2524 LR: 0.000030  \n",
      "Epoch: [7][177/178] Elapsed 1m 54s (remain 0m 0s) Loss: 0.2728 Grad: 1.6822 LR: 0.000025  \n",
      "EVAL: [0/45] Elapsed 0m 2s (remain 2m 0s) Loss: 0.6719 \n",
      "EVAL: [44/45] Elapsed 0m 17s (remain 0m 0s) Loss: 0.3551 \n"
     ]
    },
    {
     "name": "stderr",
     "output_type": "stream",
     "text": [
      "Epoch 7 - avg_train_loss: 0.2728  avg_val_loss: 0.3551  time: 133s\n",
      "Epoch 7 - Score: 0.8913297499415751\n"
     ]
    },
    {
     "name": "stdout",
     "output_type": "stream",
     "text": [
      "Epoch: [8][0/178] Elapsed 0m 3s (remain 9m 31s) Loss: 0.2656 Grad: 1.7639 LR: 0.000025  \n",
      "Epoch: [8][100/178] Elapsed 1m 3s (remain 0m 48s) Loss: 0.2580 Grad: 1.6533 LR: 0.000018  \n",
      "Epoch: [8][177/178] Elapsed 1m 49s (remain 0m 0s) Loss: 0.2583 Grad: 1.3625 LR: 0.000014  \n",
      "EVAL: [0/45] Elapsed 0m 2s (remain 2m 1s) Loss: 0.6221 \n",
      "EVAL: [44/45] Elapsed 0m 17s (remain 0m 0s) Loss: 0.3571 \n"
     ]
    },
    {
     "name": "stderr",
     "output_type": "stream",
     "text": [
      "Epoch 8 - avg_train_loss: 0.2583  avg_val_loss: 0.3571  time: 128s\n",
      "Epoch 8 - Score: 0.8833839682168731\n"
     ]
    },
    {
     "name": "stdout",
     "output_type": "stream",
     "text": [
      "Epoch: [9][0/178] Elapsed 0m 3s (remain 9m 1s) Loss: 0.2307 Grad: 1.5781 LR: 0.000014  \n",
      "Epoch: [9][100/178] Elapsed 1m 6s (remain 0m 50s) Loss: 0.2444 Grad: 1.7834 LR: 0.000010  \n",
      "Epoch: [9][177/178] Elapsed 1m 54s (remain 0m 0s) Loss: 0.2449 Grad: 1.3562 LR: 0.000007  \n",
      "EVAL: [0/45] Elapsed 0m 2s (remain 2m 2s) Loss: 0.6553 \n",
      "EVAL: [44/45] Elapsed 0m 18s (remain 0m 0s) Loss: 0.3574 \n"
     ]
    },
    {
     "name": "stderr",
     "output_type": "stream",
     "text": [
      "Epoch 9 - avg_train_loss: 0.2449  avg_val_loss: 0.3574  time: 133s\n",
      "Epoch 9 - Score: 0.8857209628417855\n"
     ]
    },
    {
     "name": "stdout",
     "output_type": "stream",
     "text": [
      "Epoch: [10][0/178] Elapsed 0m 3s (remain 9m 51s) Loss: 0.2743 Grad: 2.1423 LR: 0.000007  \n",
      "Epoch: [10][100/178] Elapsed 1m 3s (remain 0m 48s) Loss: 0.2392 Grad: 1.8044 LR: 0.000005  \n",
      "Epoch: [10][177/178] Elapsed 1m 48s (remain 0m 0s) Loss: 0.2376 Grad: 1.9496 LR: 0.000100  \n",
      "EVAL: [0/45] Elapsed 0m 2s (remain 2m 5s) Loss: 0.6797 \n",
      "EVAL: [44/45] Elapsed 0m 17s (remain 0m 0s) Loss: 0.3588 \n"
     ]
    },
    {
     "name": "stderr",
     "output_type": "stream",
     "text": [
      "Epoch 10 - avg_train_loss: 0.2376  avg_val_loss: 0.3588  time: 126s\n",
      "Epoch 10 - Score: 0.8878242580042066\n",
      "========== fold: 2 result ==========\n",
      "Score: 0.88549\n",
      "========== fold: 3 training ==========\n"
     ]
    },
    {
     "name": "stdout",
     "output_type": "stream",
     "text": [
      "Epoch: [1][0/178] Elapsed 0m 3s (remain 9m 38s) Loss: 1.6410 Grad: 8.4246 LR: 0.000100  \n",
      "Epoch: [1][100/178] Elapsed 1m 4s (remain 0m 49s) Loss: 0.6600 Grad: 1.9839 LR: 0.000099  \n",
      "Epoch: [1][177/178] Elapsed 1m 50s (remain 0m 0s) Loss: 0.5754 Grad: 1.5199 LR: 0.000098  \n",
      "EVAL: [0/45] Elapsed 0m 2s (remain 1m 52s) Loss: 0.3159 \n",
      "EVAL: [44/45] Elapsed 0m 17s (remain 0m 0s) Loss: 0.3779 \n"
     ]
    },
    {
     "name": "stderr",
     "output_type": "stream",
     "text": [
      "Epoch 1 - avg_train_loss: 0.5754  avg_val_loss: 0.3779  time: 129s\n",
      "Epoch 1 - Score: 0.8738022902547324\n",
      "Epoch 1 - Save Best Model. score: 0.8738, loss: 0.3779\n"
     ]
    },
    {
     "name": "stdout",
     "output_type": "stream",
     "text": [
      "Epoch: [2][0/178] Elapsed 0m 3s (remain 9m 14s) Loss: 0.3959 Grad: 1.4505 LR: 0.000098  \n",
      "Epoch: [2][100/178] Elapsed 1m 3s (remain 0m 48s) Loss: 0.4272 Grad: 1.5393 LR: 0.000094  \n",
      "Epoch: [2][177/178] Elapsed 1m 47s (remain 0m 0s) Loss: 0.4162 Grad: 1.4111 LR: 0.000091  \n",
      "EVAL: [0/45] Elapsed 0m 2s (remain 1m 57s) Loss: 0.2693 \n",
      "EVAL: [44/45] Elapsed 0m 17s (remain 0m 0s) Loss: 0.3550 \n"
     ]
    },
    {
     "name": "stderr",
     "output_type": "stream",
     "text": [
      "Epoch 2 - avg_train_loss: 0.4162  avg_val_loss: 0.3550  time: 126s\n",
      "Epoch 2 - Score: 0.8805795746669782\n",
      "Epoch 2 - Save Best Model. score: 0.8806, loss: 0.3550\n"
     ]
    },
    {
     "name": "stdout",
     "output_type": "stream",
     "text": [
      "Epoch: [3][0/178] Elapsed 0m 2s (remain 8m 49s) Loss: 0.3561 Grad: 1.3751 LR: 0.000091  \n",
      "Epoch: [3][100/178] Elapsed 1m 5s (remain 0m 49s) Loss: 0.3723 Grad: 1.7314 LR: 0.000085  \n",
      "Epoch: [3][177/178] Elapsed 1m 51s (remain 0m 0s) Loss: 0.3749 Grad: 1.7271 LR: 0.000080  \n",
      "EVAL: [0/45] Elapsed 0m 2s (remain 1m 49s) Loss: 0.2361 \n",
      "EVAL: [44/45] Elapsed 0m 17s (remain 0m 0s) Loss: 0.3317 \n"
     ]
    },
    {
     "name": "stderr",
     "output_type": "stream",
     "text": [
      "Epoch 3 - avg_train_loss: 0.3749  avg_val_loss: 0.3317  time: 130s\n",
      "Epoch 3 - Score: 0.8899275531666277\n",
      "Epoch 3 - Save Best Model. score: 0.8899, loss: 0.3317\n"
     ]
    },
    {
     "name": "stdout",
     "output_type": "stream",
     "text": [
      "Epoch: [4][0/178] Elapsed 0m 3s (remain 9m 46s) Loss: 0.2710 Grad: 1.3265 LR: 0.000080  \n",
      "Epoch: [4][100/178] Elapsed 1m 5s (remain 0m 49s) Loss: 0.3376 Grad: 1.9934 LR: 0.000073  \n",
      "Epoch: [4][177/178] Elapsed 1m 52s (remain 0m 0s) Loss: 0.3460 Grad: 1.4632 LR: 0.000067  \n",
      "EVAL: [0/45] Elapsed 0m 2s (remain 2m 6s) Loss: 0.3069 \n",
      "EVAL: [44/45] Elapsed 0m 19s (remain 0m 0s) Loss: 0.3486 \n"
     ]
    },
    {
     "name": "stderr",
     "output_type": "stream",
     "text": [
      "Epoch 4 - avg_train_loss: 0.3460  avg_val_loss: 0.3486  time: 133s\n",
      "Epoch 4 - Score: 0.884318766066838\n"
     ]
    },
    {
     "name": "stdout",
     "output_type": "stream",
     "text": [
      "Epoch: [5][0/178] Elapsed 0m 3s (remain 9m 35s) Loss: 0.4049 Grad: 1.5657 LR: 0.000067  \n",
      "Epoch: [5][100/178] Elapsed 1m 3s (remain 0m 48s) Loss: 0.3229 Grad: 1.4453 LR: 0.000059  \n",
      "Epoch: [5][177/178] Elapsed 1m 50s (remain 0m 0s) Loss: 0.3210 Grad: 2.2476 LR: 0.000053  \n",
      "EVAL: [0/45] Elapsed 0m 2s (remain 2m 7s) Loss: 0.2454 \n",
      "EVAL: [44/45] Elapsed 0m 18s (remain 0m 0s) Loss: 0.3281 \n"
     ]
    },
    {
     "name": "stderr",
     "output_type": "stream",
     "text": [
      "Epoch 5 - avg_train_loss: 0.3210  avg_val_loss: 0.3281  time: 129s\n",
      "Epoch 5 - Score: 0.8953026408039262\n",
      "Epoch 5 - Save Best Model. score: 0.8953, loss: 0.3281\n"
     ]
    },
    {
     "name": "stdout",
     "output_type": "stream",
     "text": [
      "Epoch: [6][0/178] Elapsed 0m 3s (remain 10m 7s) Loss: 0.4206 Grad: 1.9240 LR: 0.000052  \n",
      "Epoch: [6][100/178] Elapsed 1m 4s (remain 0m 49s) Loss: 0.2926 Grad: 1.8529 LR: 0.000044  \n",
      "Epoch: [6][177/178] Elapsed 1m 49s (remain 0m 0s) Loss: 0.2931 Grad: 1.4569 LR: 0.000038  \n",
      "EVAL: [0/45] Elapsed 0m 2s (remain 1m 58s) Loss: 0.2883 \n",
      "EVAL: [44/45] Elapsed 0m 18s (remain 0m 0s) Loss: 0.3426 \n"
     ]
    },
    {
     "name": "stderr",
     "output_type": "stream",
     "text": [
      "Epoch 6 - avg_train_loss: 0.2931  avg_val_loss: 0.3426  time: 128s\n",
      "Epoch 6 - Score: 0.8903949520916102\n"
     ]
    },
    {
     "name": "stdout",
     "output_type": "stream",
     "text": [
      "Epoch: [7][0/178] Elapsed 0m 3s (remain 9m 13s) Loss: 0.2164 Grad: 1.4478 LR: 0.000038  \n",
      "Epoch: [7][100/178] Elapsed 1m 1s (remain 0m 46s) Loss: 0.2877 Grad: 1.4389 LR: 0.000030  \n",
      "Epoch: [7][177/178] Elapsed 1m 44s (remain 0m 0s) Loss: 0.2795 Grad: 1.4248 LR: 0.000025  \n",
      "EVAL: [0/45] Elapsed 0m 2s (remain 2m 3s) Loss: 0.3013 \n",
      "EVAL: [44/45] Elapsed 0m 17s (remain 0m 0s) Loss: 0.3486 \n"
     ]
    },
    {
     "name": "stderr",
     "output_type": "stream",
     "text": [
      "Epoch 7 - avg_train_loss: 0.2795  avg_val_loss: 0.3486  time: 123s\n",
      "Epoch 7 - Score: 0.8880579574666978\n"
     ]
    },
    {
     "name": "stdout",
     "output_type": "stream",
     "text": [
      "Epoch: [8][0/178] Elapsed 0m 3s (remain 9m 6s) Loss: 0.2829 Grad: 1.9131 LR: 0.000025  \n",
      "Epoch: [8][100/178] Elapsed 1m 4s (remain 0m 49s) Loss: 0.2545 Grad: 1.0800 LR: 0.000018  \n",
      "Epoch: [8][177/178] Elapsed 1m 50s (remain 0m 0s) Loss: 0.2563 Grad: 1.5272 LR: 0.000014  \n",
      "EVAL: [0/45] Elapsed 0m 2s (remain 1m 52s) Loss: 0.2671 \n",
      "EVAL: [44/45] Elapsed 0m 17s (remain 0m 0s) Loss: 0.3460 \n"
     ]
    },
    {
     "name": "stderr",
     "output_type": "stream",
     "text": [
      "Epoch 8 - avg_train_loss: 0.2563  avg_val_loss: 0.3460  time: 129s\n",
      "Epoch 8 - Score: 0.8908623510165926\n"
     ]
    },
    {
     "name": "stdout",
     "output_type": "stream",
     "text": [
      "Epoch: [9][0/178] Elapsed 0m 3s (remain 9m 3s) Loss: 0.2408 Grad: 1.5305 LR: 0.000014  \n",
      "Epoch: [9][100/178] Elapsed 1m 3s (remain 0m 48s) Loss: 0.2499 Grad: 1.4988 LR: 0.000010  \n",
      "Epoch: [9][177/178] Elapsed 1m 49s (remain 0m 0s) Loss: 0.2463 Grad: 1.6657 LR: 0.000007  \n",
      "EVAL: [0/45] Elapsed 0m 2s (remain 1m 52s) Loss: 0.2864 \n",
      "EVAL: [44/45] Elapsed 0m 18s (remain 0m 0s) Loss: 0.3485 \n"
     ]
    },
    {
     "name": "stderr",
     "output_type": "stream",
     "text": [
      "Epoch 9 - avg_train_loss: 0.2463  avg_val_loss: 0.3485  time: 128s\n",
      "Epoch 9 - Score: 0.8906286515541014\n"
     ]
    },
    {
     "name": "stdout",
     "output_type": "stream",
     "text": [
      "Epoch: [10][0/178] Elapsed 0m 3s (remain 8m 58s) Loss: 0.1877 Grad: 1.2956 LR: 0.000007  \n",
      "Epoch: [10][100/178] Elapsed 1m 4s (remain 0m 49s) Loss: 0.2347 Grad: 1.3964 LR: 0.000005  \n",
      "Epoch: [10][177/178] Elapsed 1m 50s (remain 0m 0s) Loss: 0.2361 Grad: 1.6916 LR: 0.000100  \n",
      "EVAL: [0/45] Elapsed 0m 2s (remain 1m 58s) Loss: 0.2651 \n",
      "EVAL: [44/45] Elapsed 0m 17s (remain 0m 0s) Loss: 0.3465 \n"
     ]
    },
    {
     "name": "stderr",
     "output_type": "stream",
     "text": [
      "Epoch 10 - avg_train_loss: 0.2361  avg_val_loss: 0.3465  time: 129s\n",
      "Epoch 10 - Score: 0.889226454779154\n",
      "========== fold: 3 result ==========\n",
      "Score: 0.89530\n",
      "========== fold: 4 training ==========\n"
     ]
    },
    {
     "name": "stdout",
     "output_type": "stream",
     "text": [
      "Epoch: [1][0/178] Elapsed 0m 3s (remain 9m 50s) Loss: 1.5039 Grad: 6.6465 LR: 0.000100  \n",
      "Epoch: [1][100/178] Elapsed 1m 7s (remain 0m 51s) Loss: 0.6392 Grad: 1.6094 LR: 0.000099  \n",
      "Epoch: [1][177/178] Elapsed 1m 53s (remain 0m 0s) Loss: 0.5649 Grad: 1.6827 LR: 0.000098  \n",
      "EVAL: [0/45] Elapsed 0m 2s (remain 1m 53s) Loss: 0.3376 \n",
      "EVAL: [44/45] Elapsed 0m 17s (remain 0m 0s) Loss: 0.3659 \n"
     ]
    },
    {
     "name": "stderr",
     "output_type": "stream",
     "text": [
      "Epoch 1 - avg_train_loss: 0.5649  avg_val_loss: 0.3659  time: 132s\n",
      "Epoch 1 - Score: 0.8761392848796448\n",
      "Epoch 1 - Save Best Model. score: 0.8761, loss: 0.3659\n"
     ]
    },
    {
     "name": "stdout",
     "output_type": "stream",
     "text": [
      "Epoch: [2][0/178] Elapsed 0m 3s (remain 8m 59s) Loss: 0.5834 Grad: 2.1581 LR: 0.000098  \n",
      "Epoch: [2][100/178] Elapsed 1m 2s (remain 0m 47s) Loss: 0.4226 Grad: 1.5635 LR: 0.000094  \n",
      "Epoch: [2][177/178] Elapsed 1m 46s (remain 0m 0s) Loss: 0.4107 Grad: 1.9464 LR: 0.000091  \n",
      "EVAL: [0/45] Elapsed 0m 2s (remain 1m 49s) Loss: 0.3223 \n",
      "EVAL: [44/45] Elapsed 0m 17s (remain 0m 0s) Loss: 0.3518 \n"
     ]
    },
    {
     "name": "stderr",
     "output_type": "stream",
     "text": [
      "Epoch 2 - avg_train_loss: 0.4107  avg_val_loss: 0.3518  time: 125s\n",
      "Epoch 2 - Score: 0.8763729843421361\n",
      "Epoch 2 - Save Best Model. score: 0.8764, loss: 0.3518\n"
     ]
    },
    {
     "name": "stdout",
     "output_type": "stream",
     "text": [
      "Epoch: [3][0/178] Elapsed 0m 3s (remain 9m 24s) Loss: 0.3668 Grad: 1.3804 LR: 0.000091  \n",
      "Epoch: [3][100/178] Elapsed 1m 3s (remain 0m 48s) Loss: 0.3667 Grad: 1.3474 LR: 0.000085  \n",
      "Epoch: [3][177/178] Elapsed 1m 48s (remain 0m 0s) Loss: 0.3732 Grad: 1.8401 LR: 0.000080  \n",
      "EVAL: [0/45] Elapsed 0m 2s (remain 1m 52s) Loss: 0.3118 \n",
      "EVAL: [44/45] Elapsed 0m 17s (remain 0m 0s) Loss: 0.3379 \n"
     ]
    },
    {
     "name": "stderr",
     "output_type": "stream",
     "text": [
      "Epoch 3 - avg_train_loss: 0.3732  avg_val_loss: 0.3379  time: 127s\n",
      "Epoch 3 - Score: 0.8847861649918205\n",
      "Epoch 3 - Save Best Model. score: 0.8848, loss: 0.3379\n"
     ]
    },
    {
     "name": "stdout",
     "output_type": "stream",
     "text": [
      "Epoch: [4][0/178] Elapsed 0m 3s (remain 9m 19s) Loss: 0.2783 Grad: 1.4708 LR: 0.000080  \n",
      "Epoch: [4][100/178] Elapsed 1m 3s (remain 0m 48s) Loss: 0.3389 Grad: 1.5195 LR: 0.000073  \n",
      "Epoch: [4][177/178] Elapsed 1m 49s (remain 0m 0s) Loss: 0.3385 Grad: 1.5780 LR: 0.000067  \n",
      "EVAL: [0/45] Elapsed 0m 2s (remain 1m 59s) Loss: 0.3376 \n",
      "EVAL: [44/45] Elapsed 0m 18s (remain 0m 0s) Loss: 0.3473 \n"
     ]
    },
    {
     "name": "stderr",
     "output_type": "stream",
     "text": [
      "Epoch 4 - avg_train_loss: 0.3385  avg_val_loss: 0.3473  time: 128s\n",
      "Epoch 4 - Score: 0.8840850666043468\n"
     ]
    },
    {
     "name": "stdout",
     "output_type": "stream",
     "text": [
      "Epoch: [5][0/178] Elapsed 0m 2s (remain 8m 50s) Loss: 0.2244 Grad: 1.2265 LR: 0.000067  \n",
      "Epoch: [5][100/178] Elapsed 1m 5s (remain 0m 49s) Loss: 0.3079 Grad: 1.4541 LR: 0.000059  \n",
      "Epoch: [5][177/178] Elapsed 1m 50s (remain 0m 0s) Loss: 0.3151 Grad: 1.4815 LR: 0.000053  \n",
      "EVAL: [0/45] Elapsed 0m 2s (remain 1m 53s) Loss: 0.3066 \n",
      "EVAL: [44/45] Elapsed 0m 17s (remain 0m 0s) Loss: 0.3444 \n"
     ]
    },
    {
     "name": "stderr",
     "output_type": "stream",
     "text": [
      "Epoch 5 - avg_train_loss: 0.3151  avg_val_loss: 0.3444  time: 129s\n",
      "Epoch 5 - Score: 0.8845524655293293\n"
     ]
    },
    {
     "name": "stdout",
     "output_type": "stream",
     "text": [
      "Epoch: [6][0/178] Elapsed 0m 2s (remain 8m 49s) Loss: 0.2517 Grad: 1.5251 LR: 0.000052  \n",
      "Epoch: [6][100/178] Elapsed 1m 3s (remain 0m 48s) Loss: 0.2892 Grad: 1.6832 LR: 0.000044  \n",
      "Epoch: [6][177/178] Elapsed 1m 49s (remain 0m 0s) Loss: 0.2905 Grad: 1.1151 LR: 0.000038  \n",
      "EVAL: [0/45] Elapsed 0m 2s (remain 2m 6s) Loss: 0.3906 \n",
      "EVAL: [44/45] Elapsed 0m 17s (remain 0m 0s) Loss: 0.3473 \n"
     ]
    },
    {
     "name": "stderr",
     "output_type": "stream",
     "text": [
      "Epoch 6 - avg_train_loss: 0.2905  avg_val_loss: 0.3473  time: 127s\n",
      "Epoch 6 - Score: 0.8866557606917504\n"
     ]
    },
    {
     "name": "stdout",
     "output_type": "stream",
     "text": [
      "Epoch: [7][0/178] Elapsed 0m 3s (remain 9m 32s) Loss: 0.1896 Grad: 1.3021 LR: 0.000038  \n",
      "Epoch: [7][100/178] Elapsed 1m 4s (remain 0m 49s) Loss: 0.2748 Grad: 1.5121 LR: 0.000030  \n",
      "Epoch: [7][177/178] Elapsed 1m 51s (remain 0m 0s) Loss: 0.2735 Grad: 1.7925 LR: 0.000025  \n",
      "EVAL: [0/45] Elapsed 0m 2s (remain 1m 56s) Loss: 0.3296 \n",
      "EVAL: [44/45] Elapsed 0m 18s (remain 0m 0s) Loss: 0.3470 \n"
     ]
    },
    {
     "name": "stderr",
     "output_type": "stream",
     "text": [
      "Epoch 7 - avg_train_loss: 0.2735  avg_val_loss: 0.3470  time: 131s\n",
      "Epoch 7 - Score: 0.8838513671418555\n"
     ]
    },
    {
     "name": "stdout",
     "output_type": "stream",
     "text": [
      "Epoch: [8][0/178] Elapsed 0m 3s (remain 9m 14s) Loss: 0.3090 Grad: 1.8291 LR: 0.000025  \n",
      "Epoch: [8][100/178] Elapsed 1m 5s (remain 0m 49s) Loss: 0.2577 Grad: 1.3045 LR: 0.000018  \n",
      "Epoch: [8][177/178] Elapsed 1m 50s (remain 0m 0s) Loss: 0.2563 Grad: 1.6757 LR: 0.000014  \n",
      "EVAL: [0/45] Elapsed 0m 2s (remain 1m 51s) Loss: 0.3276 \n",
      "EVAL: [44/45] Elapsed 0m 17s (remain 0m 0s) Loss: 0.3562 \n"
     ]
    },
    {
     "name": "stderr",
     "output_type": "stream",
     "text": [
      "Epoch 8 - avg_train_loss: 0.2563  avg_val_loss: 0.3562  time: 129s\n",
      "Epoch 8 - Score: 0.886188361766768\n"
     ]
    },
    {
     "name": "stdout",
     "output_type": "stream",
     "text": [
      "Epoch: [9][0/178] Elapsed 0m 3s (remain 9m 7s) Loss: 0.2952 Grad: 1.5196 LR: 0.000014  \n",
      "Epoch: [9][100/178] Elapsed 1m 5s (remain 0m 49s) Loss: 0.2522 Grad: 1.8002 LR: 0.000010  \n",
      "Epoch: [9][177/178] Elapsed 1m 50s (remain 0m 0s) Loss: 0.2490 Grad: 1.4313 LR: 0.000007  \n",
      "EVAL: [0/45] Elapsed 0m 2s (remain 2m 2s) Loss: 0.3386 \n",
      "EVAL: [44/45] Elapsed 0m 17s (remain 0m 0s) Loss: 0.3582 \n"
     ]
    },
    {
     "name": "stderr",
     "output_type": "stream",
     "text": [
      "Epoch 9 - avg_train_loss: 0.2490  avg_val_loss: 0.3582  time: 129s\n",
      "Epoch 9 - Score: 0.8847861649918205\n"
     ]
    },
    {
     "name": "stdout",
     "output_type": "stream",
     "text": [
      "Epoch: [10][0/178] Elapsed 0m 3s (remain 8m 51s) Loss: 0.2789 Grad: 1.7398 LR: 0.000007  \n",
      "Epoch: [10][100/178] Elapsed 1m 6s (remain 0m 50s) Loss: 0.2299 Grad: 2.1128 LR: 0.000005  \n",
      "Epoch: [10][177/178] Elapsed 1m 56s (remain 0m 0s) Loss: 0.2351 Grad: 1.3486 LR: 0.000100  \n",
      "EVAL: [0/45] Elapsed 0m 2s (remain 1m 57s) Loss: 0.3252 \n",
      "EVAL: [44/45] Elapsed 0m 17s (remain 0m 0s) Loss: 0.3652 \n"
     ]
    },
    {
     "name": "stderr",
     "output_type": "stream",
     "text": [
      "Epoch 10 - avg_train_loss: 0.2351  avg_val_loss: 0.3652  time: 135s\n",
      "Epoch 10 - Score: 0.8836176676793643\n",
      "========== fold: 4 result ==========\n",
      "Score: 0.88479\n",
      "========== CV ==========\n",
      "Score: 0.89176\n",
      "\u001b[34m\u001b[1mwandb\u001b[0m: Adding directory to artifact (./models)... Done. 1.7s\n"
     ]
    }
   ],
   "source": [
    "main()"
   ]
  },
  {
   "cell_type": "code",
   "execution_count": 36,
   "metadata": {
    "id": "8ijJJUa2d2Lx"
   },
   "outputs": [
    {
     "data": {
      "text/html": [
       "<br/>Waiting for W&B process to finish, PID 291176<br/>Program ended successfully."
      ],
      "text/plain": [
       "<IPython.core.display.HTML object>"
      ]
     },
     "metadata": {},
     "output_type": "display_data"
    },
    {
     "data": {
      "application/vnd.jupyter.widget-view+json": {
       "model_id": "",
       "version_major": 2,
       "version_minor": 0
      },
      "text/plain": [
       "VBox(children=(Label(value=' 1017.44MB of 1017.44MB uploaded (0.00MB deduped)\\r'), FloatProgress(value=1.0, ma…"
      ]
     },
     "metadata": {},
     "output_type": "display_data"
    },
    {
     "data": {
      "text/html": [
       "Find user logs for this run at: <code>/data/jupyter/sugiyama/cassava/working/wandb/run-20211001_101654-mjrj38r4/logs/debug.log</code>"
      ],
      "text/plain": [
       "<IPython.core.display.HTML object>"
      ]
     },
     "metadata": {},
     "output_type": "display_data"
    },
    {
     "data": {
      "text/html": [
       "Find internal logs for this run at: <code>/data/jupyter/sugiyama/cassava/working/wandb/run-20211001_101654-mjrj38r4/logs/debug-internal.log</code>"
      ],
      "text/plain": [
       "<IPython.core.display.HTML object>"
      ]
     },
     "metadata": {},
     "output_type": "display_data"
    },
    {
     "data": {
      "text/html": [
       "<h3>Run summary:</h3><br/><style>\n",
       "    table.wandb td:nth-child(1) { padding: 0 10px; text-align: right }\n",
       "    </style><table class=\"wandb\">\n",
       "<tr><td>CV</td><td>0.89176</td></tr><tr><td>CV_fold0</td><td>0.89953</td></tr><tr><td>CV_fold1</td><td>0.89369</td></tr><tr><td>CV_fold2</td><td>0.88549</td></tr><tr><td>CV_fold3</td><td>0.8953</td></tr><tr><td>CV_fold4</td><td>0.88479</td></tr><tr><td>epoch</td><td>10</td></tr><tr><td>loss</td><td>0.32485</td></tr><tr><td>loss/train_fold0</td><td>0.24868</td></tr><tr><td>loss/train_fold1</td><td>0.24768</td></tr><tr><td>loss/train_fold2</td><td>0.23762</td></tr><tr><td>loss/train_fold3</td><td>0.23611</td></tr><tr><td>loss/train_fold4</td><td>0.23508</td></tr><tr><td>loss/valid_fold0</td><td>0.31831</td></tr><tr><td>loss/valid_fold1</td><td>0.32036</td></tr><tr><td>loss/valid_fold2</td><td>0.3588</td></tr><tr><td>loss/valid_fold3</td><td>0.34653</td></tr><tr><td>loss/valid_fold4</td><td>0.36517</td></tr><tr><td>score/fold0</td><td>0.8965</td></tr><tr><td>score/fold1</td><td>0.89463</td></tr><tr><td>score/fold2</td><td>0.88782</td></tr><tr><td>score/fold3</td><td>0.88923</td></tr><tr><td>score/fold4</td><td>0.88362</td></tr></table>"
      ],
      "text/plain": [
       "<IPython.core.display.HTML object>"
      ]
     },
     "metadata": {},
     "output_type": "display_data"
    },
    {
     "data": {
      "text/html": [
       "<h3>Run history:</h3><br/><style>\n",
       "    table.wandb td:nth-child(1) { padding: 0 10px; text-align: right }\n",
       "    </style><table class=\"wandb\">\n",
       "<tr><td>CV</td><td>▁</td></tr><tr><td>CV_fold0</td><td>▁</td></tr><tr><td>CV_fold1</td><td>▁</td></tr><tr><td>CV_fold2</td><td>▁</td></tr><tr><td>CV_fold3</td><td>▁</td></tr><tr><td>CV_fold4</td><td>▁</td></tr><tr><td>epoch</td><td>▁▂▃▃▅▆▆▇▁▂▃▃▅▆▆▇▁▂▃▃▅▆▆▇▁▂▃▃▅▆▆▇▁▂▃▃▅▆▆█</td></tr><tr><td>loss</td><td>▁</td></tr><tr><td>loss/train_fold0</td><td>█▄▄▃▃▂▂▁▁▁</td></tr><tr><td>loss/train_fold1</td><td>█▄▄▃▃▂▂▁▁▁</td></tr><tr><td>loss/train_fold2</td><td>█▅▄▃▃▂▂▁▁▁</td></tr><tr><td>loss/train_fold3</td><td>█▅▄▃▃▂▂▁▁▁</td></tr><tr><td>loss/train_fold4</td><td>█▅▄▃▃▂▂▁▁▁</td></tr><tr><td>loss/valid_fold0</td><td>█▆▃▁▂▂▃▄▆▆</td></tr><tr><td>loss/valid_fold1</td><td>█▃▁▁▁▁▂▂▃▃</td></tr><tr><td>loss/valid_fold2</td><td>█▄▃▄▁▂▃▃▃▃</td></tr><tr><td>loss/valid_fold3</td><td>█▅▁▄▁▃▄▄▄▄</td></tr><tr><td>loss/valid_fold4</td><td>█▄▁▃▃▃▃▆▆█</td></tr><tr><td>score/fold0</td><td>▁▂▅██▇█▇▆▆</td></tr><tr><td>score/fold1</td><td>▁▆▆█▇█▇▇█▇</td></tr><tr><td>score/fold2</td><td>▁▃▆▅▇▇█▆▇▇</td></tr><tr><td>score/fold3</td><td>▁▃▆▄█▆▆▇▆▆</td></tr><tr><td>score/fold4</td><td>▁▁▇▆▇█▆█▇▆</td></tr></table><br/>"
      ],
      "text/plain": [
       "<IPython.core.display.HTML object>"
      ]
     },
     "metadata": {},
     "output_type": "display_data"
    },
    {
     "data": {
      "text/html": [
       "Synced 7 W&B file(s), 1 media file(s), 6 artifact file(s) and 2 other file(s)"
      ],
      "text/plain": [
       "<IPython.core.display.HTML object>"
      ]
     },
     "metadata": {},
     "output_type": "display_data"
    },
    {
     "data": {
      "text/html": [
       "\n",
       "                    <br/>Synced <strong style=\"color:#cdcd00\">sweet-thunder-18</strong>: <a href=\"https://wandb.ai/imokuri/baseline/runs/mjrj38r4\" target=\"_blank\">https://wandb.ai/imokuri/baseline/runs/mjrj38r4</a><br/>\n",
       "                "
      ],
      "text/plain": [
       "<IPython.core.display.HTML object>"
      ]
     },
     "metadata": {},
     "output_type": "display_data"
    }
   ],
   "source": [
    "wandb.finish()"
   ]
  }
 ],
 "metadata": {
  "accelerator": "GPU",
  "colab": {
   "authorship_tag": "ABX9TyOTImibVrWtn7FUurH3VbyQ",
   "collapsed_sections": [],
   "include_colab_link": true,
   "name": "WandB Baseline - Image.ipynb",
   "provenance": [],
   "toc_visible": true
  },
  "kernelspec": {
   "display_name": "py38-all-in-one",
   "language": "python",
   "name": "py38-all-in-one"
  },
  "language_info": {
   "codemirror_mode": {
    "name": "ipython",
    "version": 3
   },
   "file_extension": ".py",
   "mimetype": "text/x-python",
   "name": "python",
   "nbconvert_exporter": "python",
   "pygments_lexer": "ipython3",
   "version": "3.9.7"
  }
 },
 "nbformat": 4,
 "nbformat_minor": 4
}
